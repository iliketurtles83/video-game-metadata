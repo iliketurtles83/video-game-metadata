{
 "cells": [
  {
   "cell_type": "markdown",
   "metadata": {},
   "source": [
    "### Game data exploration\n",
    "\n",
    "ARRM database files were copied from ARRM install folder and converted from mdb to csv using mdb-tools\n",
    "\n",
    "Sources:\n",
    "- ARRM database files\n",
    "- SteamDB data\n",
    "- what else?\n",
    "\n",
    "Preferred features for a database:\n",
    "- name/title\n",
    "- filename (important for arcade titles)\n",
    "- description\n",
    "- platform\n",
    "- release date/year\n",
    "- genre(s)\n",
    "- developer\n",
    "- publisher\n",
    "- number of players\n",
    "- cooperative\n",
    "- rating"
   ]
  },
  {
   "cell_type": "code",
   "execution_count": 38,
   "metadata": {},
   "outputs": [],
   "source": [
    "# !pip install pandas"
   ]
  },
  {
   "cell_type": "code",
   "execution_count": 39,
   "metadata": {},
   "outputs": [],
   "source": [
    "import pandas as pd"
   ]
  },
  {
   "cell_type": "markdown",
   "metadata": {},
   "source": [
    "## DAT Databases"
   ]
  },
  {
   "cell_type": "code",
   "execution_count": 40,
   "metadata": {},
   "outputs": [
    {
     "name": "stderr",
     "output_type": "stream",
     "text": [
      "/tmp/ipykernel_11215/1416037915.py:3: DtypeWarning: Columns (7) have mixed types. Specify dtype option on import or set low_memory=False.\n",
      "  dat_mame = pd.read_csv('csv/dat_database_mame.csv')\n"
     ]
    }
   ],
   "source": [
    "dat_daphne = pd.read_csv('csv/dat_database_daphne.csv')\n",
    "dat_dos = pd.read_csv('csv/dat_database_dos.csv')\n",
    "dat_mame = pd.read_csv('csv/dat_database_mame.csv')\n",
    "dat_scumm_vm = pd.read_csv('csv/dat_database_scummvm.csv')"
   ]
  },
  {
   "cell_type": "markdown",
   "metadata": {},
   "source": [
    "### DOS"
   ]
  },
  {
   "cell_type": "code",
   "execution_count": 41,
   "metadata": {},
   "outputs": [
    {
     "name": "stdout",
     "output_type": "stream",
     "text": [
      "<class 'pandas.core.frame.DataFrame'>\n",
      "RangeIndex: 7482 entries, 0 to 7481\n",
      "Data columns (total 7 columns):\n",
      " #   Column            Non-Null Count  Dtype \n",
      "---  ------            --------------  ----- \n",
      " 0   ID                7482 non-null   int64 \n",
      " 1   gametitle_mame    7482 non-null   object\n",
      " 2   developer_mame    7479 non-null   object\n",
      " 3   year_mame         7482 non-null   object\n",
      " 4   genre_mame        7481 non-null   object\n",
      " 5   description_mame  7470 non-null   object\n",
      " 6   publisher_mame    7451 non-null   object\n",
      "dtypes: int64(1), object(6)\n",
      "memory usage: 409.3+ KB\n"
     ]
    }
   ],
   "source": [
    "# display dat_dos info\n",
    "dat_dos.info()"
   ]
  },
  {
   "cell_type": "code",
   "execution_count": 42,
   "metadata": {},
   "outputs": [
    {
     "data": {
      "application/vnd.microsoft.datawrangler.viewer.v0+json": {
       "columns": [
        {
         "name": "index",
         "rawType": "object",
         "type": "string"
        },
        {
         "name": "0",
         "rawType": "int64",
         "type": "integer"
        }
       ],
       "ref": "8bf3a051-6dea-4374-829f-cc24cf173adf",
       "rows": [
        [
         "ID",
         "0"
        ],
        [
         "gametitle_mame",
         "0"
        ],
        [
         "developer_mame",
         "3"
        ],
        [
         "year_mame",
         "0"
        ],
        [
         "genre_mame",
         "1"
        ],
        [
         "description_mame",
         "12"
        ],
        [
         "publisher_mame",
         "31"
        ]
       ],
       "shape": {
        "columns": 1,
        "rows": 7
       }
      },
      "text/plain": [
       "ID                   0\n",
       "gametitle_mame       0\n",
       "developer_mame       3\n",
       "year_mame            0\n",
       "genre_mame           1\n",
       "description_mame    12\n",
       "publisher_mame      31\n",
       "dtype: int64"
      ]
     },
     "execution_count": 42,
     "metadata": {},
     "output_type": "execute_result"
    }
   ],
   "source": [
    "dat_dos.isnull().sum()"
   ]
  },
  {
   "cell_type": "code",
   "execution_count": 43,
   "metadata": {},
   "outputs": [
    {
     "data": {
      "application/vnd.microsoft.datawrangler.viewer.v0+json": {
       "columns": [
        {
         "name": "index",
         "rawType": "int64",
         "type": "integer"
        },
        {
         "name": "ID",
         "rawType": "int64",
         "type": "integer"
        },
        {
         "name": "gametitle_mame",
         "rawType": "object",
         "type": "string"
        },
        {
         "name": "developer_mame",
         "rawType": "object",
         "type": "string"
        },
        {
         "name": "year_mame",
         "rawType": "object",
         "type": "string"
        },
        {
         "name": "genre_mame",
         "rawType": "object",
         "type": "string"
        },
        {
         "name": "description_mame",
         "rawType": "object",
         "type": "string"
        },
        {
         "name": "publisher_mame",
         "rawType": "object",
         "type": "string"
        }
       ],
       "ref": "2a5457ea-ac8d-431e-8577-0681041a8607",
       "rows": [
        [
         "0",
         "61191",
         "Stunt Island",
         "The Assembly Line",
         "19920101T000000",
         "Flight Simulator,Vehicle Simulation",
         "Stunt Island was marketed as The Stunt Flying and Filming Simulation. With over 50 aircraft (including the space shuttle) and over 1000 props, you could either fly around the island, make your own films, or fly stunts for money.",
         "Walt Disney Computer Software, Inc."
        ],
        [
         "1",
         "61192",
         "Tommy's Yahtzee",
         "Tommy's Toys",
         "19860101T000000",
         "Board / Party Game",
         "Tommy's Yahtzee is a shareware implementation of the popular dice game.\n\nThis implementation is for up to eight players.\nThe objective is to score points by creating various combinations on each roll of the five dice. After the first roll, any number of dice can be rolled again to achieve a desirable set. The game's score sheet is divided into two parts, the upper part contains boards 1-6 where the player scores the number of ones, twos, threes etc on that roll. The lower part of the board can vary depending on the mode of game being played.\nThe standard game of Yahtzee is played with a lower the following lower boards\n\n Three of a kind - scores the sum of all the dice\n\n Four of a kind - scores the sum of all the dice\n\n A Full House, two of one number and three of another, scores 25 points\n\n A small straight, any sequence of four dice, scores 30 points\n\n A large straight, any sequence of five dice, scores 40 points\n\n A 'Chance' which is the sum of all five dice in any roll, no specific requirements\n\n A Yahtzee where all five dice have the same number. This scores 50 points and may be scored multiple times but at the expense of one of the other options.\n\nAn upper board bonus of 35 points can be scored if the upper board totals more than 62 points\n\nIn the Yacht variation the lower board consists of fewer options and is scored differently\n\n Four of a kind - scores the sum of all the dice\n\n A Full House, two of one number and three of another, scores the sum of the dice\n A little straight is 1,2,3,4,5 and scores 30 points\n\n A big straight is 2,3,4,5,6 and scores 30 points\n\n A 'Chance' which is the sum of all five dice in any roll, no specific requirements\n\n A Yacht where all five dice have the same number scores 50 points and may only be scored once.\n\nThis variation also has a special rule whereby the first roll must be to the lower board and the player must continue to roll until a Yacht is achieved. The player's score is docked five points for every roll and should their score become negative their yacht is said to be 'sunk'.\n\nIn the Crag variation the game is played wit just three dice and the lower board is as follows\n\n Three of a kind - scores 25 points\n\n A low straight (1,2,3) scores 20 points\n\n A high straight (4,5,6) scores 20 points\n\n An odd straight (1,3,5) scores 20 points\n\n An even straight (2,4,6) scores 20 points\n\n A Crag, any three dice that total 13 points and which contains a pair, scores 50 points\n\n A Thirteen, any three dice which total 13, scores 26 points.\n\n\nAs with most of Tommy's games it uses character graphics and is entirely keyboard controlled. It has basic sound effects and command line switches to start the game with sound turned off and to force either a colour or monochrome display",
         "Freeware"
        ],
        [
         "2",
         "61193",
         "Fantasy Empires",
         "Silicon Knights",
         "19931001T000000",
         "Strategy",
         "Build and control an Empire! In Fantasy Empires you play the ruler of a fledging kingdom; your objective Take over adjacent kingdoms one by one using magic, war, or strategic planning. Features real-time combat in an overhead view, as well as a computer controlled The Dungeon Master, who provides insight as well as comic relief. Form alliances, recruit armies, train heroes, send them on quests, cast spells, manage resourses. All set in the enchanted world of D&D.\n\nUp to five players can take turns waging war against one another.",
         "Strategic Simulations, Inc."
        ],
        [
         "3",
         "61194",
         "Pune",
         "Hardware Not Included",
         "19950101T000000",
         "Action",
         "Pune is a light cycle/snake-type game for multiple human players, directly based on the earlier Amiga game Dune 3 (AKA Achtung, die Kurve). Each player controls one of the worms that continuously slither across the playfield, and can smoothly guide it in arbitrary directions by steering it left and right. Running into the walls or into other worms means death, so your aim is to survive as long as you can, by tricking the other players into suffering that fate instead.\n\nThe action is accompanied by digitized cheers, curses and death screams. Fatalities may be avoided by passing through the occasional gaps that appear in the worms' bodies; as in the original game, you earn a point when any other player snuffs it - no points are awarded for threading the holes (unlike other clones, such as Viper), and the total score required for victory depends on the number of players.",
         "Hardware Not Included"
        ],
        [
         "4",
         "61195",
         "Mortal Kombat",
         "Probe Software Ltd.",
         "19940525T000000",
         "Action,Fighting",
         "Five Hundred years ago, an ancient and well respected Shaolin fighting tournament, held every 50 years, was corrupted by an evil and elderly sorcerer by the name of Shang Tsung.  Shang was accompanied by Prince Goro, a warrior of the Shokan race (a four armed half-human/half-dragon). Knowing that if ten tournaments in a row were won by the Outworld champion, the Earth Realm would be conquered by evil and fall into darkness, Shang entered Goro in the tournament and had him defeat the great Kung Lao. Goro has been  reigning supreme as the undefeated fighting champion for five hundred years now. As the last tournament required draws near, Raiden, Thunder God and protector of the Earth Realm, enacts a plan to tip the scales in the humans favor, Seven fighters step into the arena on Shang Tsung's mysterious island Shaolin warrior Liu Kang, Special Forces operative Sonya Blade, the mercenary thug Kano, fame-seeking actor Johnny Cage, the ice wielding Lin Kuei warrior Sub-Zero and his undead adversary Scorpion, and Raiden himself.Mortal Kombat is a side-scrolling 1 on 1 fighting game. Fighting is set as one on one kombat, allowing each player to perform a variety of punches, kicks, and special moves in order to defeat their opponent.  When the opponent faces their second round loss, the winner can perform a finishing move called a Fatality on the loser.  The Fatality is a move unique to each fighter that graphically kills the loser in a blood-soaked finale.Mortal Kombat began its life as a 2-player arcade title. It is notable for its use of digitized actors to represent the game's fighters, as well as its use of copious amounts of blood during gameplay.",
         "Acclaim Entertainment, Inc."
        ]
       ],
       "shape": {
        "columns": 7,
        "rows": 5
       }
      },
      "text/html": [
       "<div>\n",
       "<style scoped>\n",
       "    .dataframe tbody tr th:only-of-type {\n",
       "        vertical-align: middle;\n",
       "    }\n",
       "\n",
       "    .dataframe tbody tr th {\n",
       "        vertical-align: top;\n",
       "    }\n",
       "\n",
       "    .dataframe thead th {\n",
       "        text-align: right;\n",
       "    }\n",
       "</style>\n",
       "<table border=\"1\" class=\"dataframe\">\n",
       "  <thead>\n",
       "    <tr style=\"text-align: right;\">\n",
       "      <th></th>\n",
       "      <th>ID</th>\n",
       "      <th>gametitle_mame</th>\n",
       "      <th>developer_mame</th>\n",
       "      <th>year_mame</th>\n",
       "      <th>genre_mame</th>\n",
       "      <th>description_mame</th>\n",
       "      <th>publisher_mame</th>\n",
       "    </tr>\n",
       "  </thead>\n",
       "  <tbody>\n",
       "    <tr>\n",
       "      <th>0</th>\n",
       "      <td>61191</td>\n",
       "      <td>Stunt Island</td>\n",
       "      <td>The Assembly Line</td>\n",
       "      <td>19920101T000000</td>\n",
       "      <td>Flight Simulator,Vehicle Simulation</td>\n",
       "      <td>Stunt Island was marketed as The Stunt Flying ...</td>\n",
       "      <td>Walt Disney Computer Software, Inc.</td>\n",
       "    </tr>\n",
       "    <tr>\n",
       "      <th>1</th>\n",
       "      <td>61192</td>\n",
       "      <td>Tommy's Yahtzee</td>\n",
       "      <td>Tommy's Toys</td>\n",
       "      <td>19860101T000000</td>\n",
       "      <td>Board / Party Game</td>\n",
       "      <td>Tommy's Yahtzee is a shareware implementation ...</td>\n",
       "      <td>Freeware</td>\n",
       "    </tr>\n",
       "    <tr>\n",
       "      <th>2</th>\n",
       "      <td>61193</td>\n",
       "      <td>Fantasy Empires</td>\n",
       "      <td>Silicon Knights</td>\n",
       "      <td>19931001T000000</td>\n",
       "      <td>Strategy</td>\n",
       "      <td>Build and control an Empire! In Fantasy Empire...</td>\n",
       "      <td>Strategic Simulations, Inc.</td>\n",
       "    </tr>\n",
       "    <tr>\n",
       "      <th>3</th>\n",
       "      <td>61194</td>\n",
       "      <td>Pune</td>\n",
       "      <td>Hardware Not Included</td>\n",
       "      <td>19950101T000000</td>\n",
       "      <td>Action</td>\n",
       "      <td>Pune is a light cycle/snake-type game for mult...</td>\n",
       "      <td>Hardware Not Included</td>\n",
       "    </tr>\n",
       "    <tr>\n",
       "      <th>4</th>\n",
       "      <td>61195</td>\n",
       "      <td>Mortal Kombat</td>\n",
       "      <td>Probe Software Ltd.</td>\n",
       "      <td>19940525T000000</td>\n",
       "      <td>Action,Fighting</td>\n",
       "      <td>Five Hundred years ago, an ancient and well re...</td>\n",
       "      <td>Acclaim Entertainment, Inc.</td>\n",
       "    </tr>\n",
       "  </tbody>\n",
       "</table>\n",
       "</div>"
      ],
      "text/plain": [
       "      ID   gametitle_mame         developer_mame        year_mame  \\\n",
       "0  61191     Stunt Island      The Assembly Line  19920101T000000   \n",
       "1  61192  Tommy's Yahtzee           Tommy's Toys  19860101T000000   \n",
       "2  61193  Fantasy Empires        Silicon Knights  19931001T000000   \n",
       "3  61194             Pune  Hardware Not Included  19950101T000000   \n",
       "4  61195    Mortal Kombat    Probe Software Ltd.  19940525T000000   \n",
       "\n",
       "                            genre_mame  \\\n",
       "0  Flight Simulator,Vehicle Simulation   \n",
       "1                   Board / Party Game   \n",
       "2                             Strategy   \n",
       "3                               Action   \n",
       "4                      Action,Fighting   \n",
       "\n",
       "                                    description_mame  \\\n",
       "0  Stunt Island was marketed as The Stunt Flying ...   \n",
       "1  Tommy's Yahtzee is a shareware implementation ...   \n",
       "2  Build and control an Empire! In Fantasy Empire...   \n",
       "3  Pune is a light cycle/snake-type game for mult...   \n",
       "4  Five Hundred years ago, an ancient and well re...   \n",
       "\n",
       "                        publisher_mame  \n",
       "0  Walt Disney Computer Software, Inc.  \n",
       "1                             Freeware  \n",
       "2          Strategic Simulations, Inc.  \n",
       "3                Hardware Not Included  \n",
       "4          Acclaim Entertainment, Inc.  "
      ]
     },
     "execution_count": 43,
     "metadata": {},
     "output_type": "execute_result"
    }
   ],
   "source": [
    "dat_dos.head()"
   ]
  },
  {
   "cell_type": "markdown",
   "metadata": {},
   "source": [
    "DOS analysis: A very nice set and i love DOS games. Lets use it."
   ]
  },
  {
   "cell_type": "markdown",
   "metadata": {},
   "source": [
    "### Daphne"
   ]
  },
  {
   "cell_type": "code",
   "execution_count": 44,
   "metadata": {},
   "outputs": [
    {
     "data": {
      "application/vnd.microsoft.datawrangler.viewer.v0+json": {
       "columns": [
        {
         "name": "index",
         "rawType": "int64",
         "type": "integer"
        },
        {
         "name": "ID",
         "rawType": "int64",
         "type": "integer"
        },
        {
         "name": "gametitle_mame",
         "rawType": "object",
         "type": "string"
        },
        {
         "name": "filename_mame",
         "rawType": "object",
         "type": "string"
        },
        {
         "name": "cloneof_mame",
         "rawType": "float64",
         "type": "float"
        },
        {
         "name": "manufacturer_mame",
         "rawType": "float64",
         "type": "float"
        },
        {
         "name": "year_mame",
         "rawType": "object",
         "type": "string"
        },
        {
         "name": "genre_mame",
         "rawType": "float64",
         "type": "float"
        }
       ],
       "ref": "6352f86d-2946-45bf-b9d1-c1810138c562",
       "rows": [
        [
         "0",
         "599",
         ".38 Ambush Alley",
         "38ambushalley",
         null,
         null,
         "-",
         null
        ],
        [
         "1",
         "600",
         "Space Ace",
         "ace",
         null,
         null,
         "-",
         null
        ],
        [
         "2",
         "601",
         "Space Ace",
         "ace91",
         null,
         null,
         "-",
         null
        ],
        [
         "3",
         "602",
         "Space Ace",
         "ace91_euro",
         null,
         null,
         "-",
         null
        ],
        [
         "4",
         "603",
         "Space Ace",
         "aceeuro",
         null,
         null,
         "-",
         null
        ]
       ],
       "shape": {
        "columns": 7,
        "rows": 5
       }
      },
      "text/html": [
       "<div>\n",
       "<style scoped>\n",
       "    .dataframe tbody tr th:only-of-type {\n",
       "        vertical-align: middle;\n",
       "    }\n",
       "\n",
       "    .dataframe tbody tr th {\n",
       "        vertical-align: top;\n",
       "    }\n",
       "\n",
       "    .dataframe thead th {\n",
       "        text-align: right;\n",
       "    }\n",
       "</style>\n",
       "<table border=\"1\" class=\"dataframe\">\n",
       "  <thead>\n",
       "    <tr style=\"text-align: right;\">\n",
       "      <th></th>\n",
       "      <th>ID</th>\n",
       "      <th>gametitle_mame</th>\n",
       "      <th>filename_mame</th>\n",
       "      <th>cloneof_mame</th>\n",
       "      <th>manufacturer_mame</th>\n",
       "      <th>year_mame</th>\n",
       "      <th>genre_mame</th>\n",
       "    </tr>\n",
       "  </thead>\n",
       "  <tbody>\n",
       "    <tr>\n",
       "      <th>0</th>\n",
       "      <td>599</td>\n",
       "      <td>.38 Ambush Alley</td>\n",
       "      <td>38ambushalley</td>\n",
       "      <td>NaN</td>\n",
       "      <td>NaN</td>\n",
       "      <td>-</td>\n",
       "      <td>NaN</td>\n",
       "    </tr>\n",
       "    <tr>\n",
       "      <th>1</th>\n",
       "      <td>600</td>\n",
       "      <td>Space Ace</td>\n",
       "      <td>ace</td>\n",
       "      <td>NaN</td>\n",
       "      <td>NaN</td>\n",
       "      <td>-</td>\n",
       "      <td>NaN</td>\n",
       "    </tr>\n",
       "    <tr>\n",
       "      <th>2</th>\n",
       "      <td>601</td>\n",
       "      <td>Space Ace</td>\n",
       "      <td>ace91</td>\n",
       "      <td>NaN</td>\n",
       "      <td>NaN</td>\n",
       "      <td>-</td>\n",
       "      <td>NaN</td>\n",
       "    </tr>\n",
       "    <tr>\n",
       "      <th>3</th>\n",
       "      <td>602</td>\n",
       "      <td>Space Ace</td>\n",
       "      <td>ace91_euro</td>\n",
       "      <td>NaN</td>\n",
       "      <td>NaN</td>\n",
       "      <td>-</td>\n",
       "      <td>NaN</td>\n",
       "    </tr>\n",
       "    <tr>\n",
       "      <th>4</th>\n",
       "      <td>603</td>\n",
       "      <td>Space Ace</td>\n",
       "      <td>aceeuro</td>\n",
       "      <td>NaN</td>\n",
       "      <td>NaN</td>\n",
       "      <td>-</td>\n",
       "      <td>NaN</td>\n",
       "    </tr>\n",
       "  </tbody>\n",
       "</table>\n",
       "</div>"
      ],
      "text/plain": [
       "    ID    gametitle_mame  filename_mame  cloneof_mame  manufacturer_mame  \\\n",
       "0  599  .38 Ambush Alley  38ambushalley           NaN                NaN   \n",
       "1  600         Space Ace            ace           NaN                NaN   \n",
       "2  601         Space Ace          ace91           NaN                NaN   \n",
       "3  602         Space Ace     ace91_euro           NaN                NaN   \n",
       "4  603         Space Ace        aceeuro           NaN                NaN   \n",
       "\n",
       "  year_mame  genre_mame  \n",
       "0         -         NaN  \n",
       "1         -         NaN  \n",
       "2         -         NaN  \n",
       "3         -         NaN  \n",
       "4         -         NaN  "
      ]
     },
     "execution_count": 44,
     "metadata": {},
     "output_type": "execute_result"
    }
   ],
   "source": [
    "dat_daphne.head()"
   ]
  },
  {
   "cell_type": "code",
   "execution_count": 45,
   "metadata": {},
   "outputs": [
    {
     "data": {
      "application/vnd.microsoft.datawrangler.viewer.v0+json": {
       "columns": [
        {
         "name": "index",
         "rawType": "object",
         "type": "string"
        },
        {
         "name": "0",
         "rawType": "int64",
         "type": "integer"
        }
       ],
       "ref": "a700b304-6527-4cc4-a236-a44361ac68fc",
       "rows": [
        [
         "ID",
         "0"
        ],
        [
         "gametitle_mame",
         "0"
        ],
        [
         "filename_mame",
         "0"
        ],
        [
         "cloneof_mame",
         "208"
        ],
        [
         "manufacturer_mame",
         "208"
        ],
        [
         "year_mame",
         "0"
        ],
        [
         "genre_mame",
         "208"
        ]
       ],
       "shape": {
        "columns": 1,
        "rows": 7
       }
      },
      "text/plain": [
       "ID                     0\n",
       "gametitle_mame         0\n",
       "filename_mame          0\n",
       "cloneof_mame         208\n",
       "manufacturer_mame    208\n",
       "year_mame              0\n",
       "genre_mame           208\n",
       "dtype: int64"
      ]
     },
     "execution_count": 45,
     "metadata": {},
     "output_type": "execute_result"
    }
   ],
   "source": [
    "dat_daphne.isnull().sum()"
   ]
  },
  {
   "cell_type": "markdown",
   "metadata": {},
   "source": [
    "Analysis: Daphne dataframe is only 34 rows, nulls for manufacturer and genre info. Lets skip this database."
   ]
  },
  {
   "cell_type": "markdown",
   "metadata": {},
   "source": [
    "### MAME"
   ]
  },
  {
   "cell_type": "code",
   "execution_count": 46,
   "metadata": {},
   "outputs": [
    {
     "data": {
      "application/vnd.microsoft.datawrangler.viewer.v0+json": {
       "columns": [
        {
         "name": "index",
         "rawType": "int64",
         "type": "integer"
        },
        {
         "name": "ID",
         "rawType": "int64",
         "type": "integer"
        },
        {
         "name": "systemname_mame",
         "rawType": "object",
         "type": "string"
        },
        {
         "name": "gametitle_mame",
         "rawType": "object",
         "type": "string"
        },
        {
         "name": "filename_mame",
         "rawType": "object",
         "type": "string"
        },
        {
         "name": "cloneof_mame",
         "rawType": "object",
         "type": "unknown"
        },
        {
         "name": "manufacturer_mame",
         "rawType": "object",
         "type": "string"
        },
        {
         "name": "year_mame",
         "rawType": "object",
         "type": "string"
        },
        {
         "name": "genre_mame",
         "rawType": "object",
         "type": "unknown"
        }
       ],
       "ref": "fd5cc230-55ab-4980-a0ba-f7d6f7264a4e",
       "rows": [
        [
         "0",
         "355065",
         "advmame 0.94-RetroPie-260.dat",
         "PuckMan (Japan set 1, Probably Bootleg)",
         "puckman",
         null,
         "Namco",
         "1980/01/01",
         null
        ],
        [
         "1",
         "355066",
         "advmame 0.94-RetroPie-260.dat",
         "PuckMan (Japan set 2)",
         "puckmana",
         "puckman",
         "Namco",
         "1980/01/01",
         null
        ],
        [
         "2",
         "355067",
         "advmame 0.94-RetroPie-260.dat",
         "PuckMan (Japan set 1 with speedup hack)",
         "puckmanf",
         "puckman",
         "Namco",
         "1980/01/01",
         null
        ],
        [
         "3",
         "355068",
         "advmame 0.94-RetroPie-260.dat",
         "Puckman (Falcom)",
         "puckmanh",
         "puckman",
         "hack",
         "1980/01/01",
         null
        ],
        [
         "4",
         "355069",
         "advmame 0.94-RetroPie-260.dat",
         "Pac-Man (Midway)",
         "pacman",
         "puckman",
         "[Namco] (Midway license)",
         "1980/01/01",
         null
        ]
       ],
       "shape": {
        "columns": 8,
        "rows": 5
       }
      },
      "text/html": [
       "<div>\n",
       "<style scoped>\n",
       "    .dataframe tbody tr th:only-of-type {\n",
       "        vertical-align: middle;\n",
       "    }\n",
       "\n",
       "    .dataframe tbody tr th {\n",
       "        vertical-align: top;\n",
       "    }\n",
       "\n",
       "    .dataframe thead th {\n",
       "        text-align: right;\n",
       "    }\n",
       "</style>\n",
       "<table border=\"1\" class=\"dataframe\">\n",
       "  <thead>\n",
       "    <tr style=\"text-align: right;\">\n",
       "      <th></th>\n",
       "      <th>ID</th>\n",
       "      <th>systemname_mame</th>\n",
       "      <th>gametitle_mame</th>\n",
       "      <th>filename_mame</th>\n",
       "      <th>cloneof_mame</th>\n",
       "      <th>manufacturer_mame</th>\n",
       "      <th>year_mame</th>\n",
       "      <th>genre_mame</th>\n",
       "    </tr>\n",
       "  </thead>\n",
       "  <tbody>\n",
       "    <tr>\n",
       "      <th>0</th>\n",
       "      <td>355065</td>\n",
       "      <td>advmame 0.94-RetroPie-260.dat</td>\n",
       "      <td>PuckMan (Japan set 1, Probably Bootleg)</td>\n",
       "      <td>puckman</td>\n",
       "      <td>NaN</td>\n",
       "      <td>Namco</td>\n",
       "      <td>1980/01/01</td>\n",
       "      <td>NaN</td>\n",
       "    </tr>\n",
       "    <tr>\n",
       "      <th>1</th>\n",
       "      <td>355066</td>\n",
       "      <td>advmame 0.94-RetroPie-260.dat</td>\n",
       "      <td>PuckMan (Japan set 2)</td>\n",
       "      <td>puckmana</td>\n",
       "      <td>puckman</td>\n",
       "      <td>Namco</td>\n",
       "      <td>1980/01/01</td>\n",
       "      <td>NaN</td>\n",
       "    </tr>\n",
       "    <tr>\n",
       "      <th>2</th>\n",
       "      <td>355067</td>\n",
       "      <td>advmame 0.94-RetroPie-260.dat</td>\n",
       "      <td>PuckMan (Japan set 1 with speedup hack)</td>\n",
       "      <td>puckmanf</td>\n",
       "      <td>puckman</td>\n",
       "      <td>Namco</td>\n",
       "      <td>1980/01/01</td>\n",
       "      <td>NaN</td>\n",
       "    </tr>\n",
       "    <tr>\n",
       "      <th>3</th>\n",
       "      <td>355068</td>\n",
       "      <td>advmame 0.94-RetroPie-260.dat</td>\n",
       "      <td>Puckman (Falcom)</td>\n",
       "      <td>puckmanh</td>\n",
       "      <td>puckman</td>\n",
       "      <td>hack</td>\n",
       "      <td>1980/01/01</td>\n",
       "      <td>NaN</td>\n",
       "    </tr>\n",
       "    <tr>\n",
       "      <th>4</th>\n",
       "      <td>355069</td>\n",
       "      <td>advmame 0.94-RetroPie-260.dat</td>\n",
       "      <td>Pac-Man (Midway)</td>\n",
       "      <td>pacman</td>\n",
       "      <td>puckman</td>\n",
       "      <td>[Namco] (Midway license)</td>\n",
       "      <td>1980/01/01</td>\n",
       "      <td>NaN</td>\n",
       "    </tr>\n",
       "  </tbody>\n",
       "</table>\n",
       "</div>"
      ],
      "text/plain": [
       "       ID                systemname_mame  \\\n",
       "0  355065  advmame 0.94-RetroPie-260.dat   \n",
       "1  355066  advmame 0.94-RetroPie-260.dat   \n",
       "2  355067  advmame 0.94-RetroPie-260.dat   \n",
       "3  355068  advmame 0.94-RetroPie-260.dat   \n",
       "4  355069  advmame 0.94-RetroPie-260.dat   \n",
       "\n",
       "                            gametitle_mame filename_mame cloneof_mame  \\\n",
       "0  PuckMan (Japan set 1, Probably Bootleg)       puckman          NaN   \n",
       "1                    PuckMan (Japan set 2)      puckmana      puckman   \n",
       "2  PuckMan (Japan set 1 with speedup hack)      puckmanf      puckman   \n",
       "3                         Puckman (Falcom)      puckmanh      puckman   \n",
       "4                         Pac-Man (Midway)        pacman      puckman   \n",
       "\n",
       "          manufacturer_mame   year_mame genre_mame  \n",
       "0                     Namco  1980/01/01        NaN  \n",
       "1                     Namco  1980/01/01        NaN  \n",
       "2                     Namco  1980/01/01        NaN  \n",
       "3                      hack  1980/01/01        NaN  \n",
       "4  [Namco] (Midway license)  1980/01/01        NaN  "
      ]
     },
     "execution_count": 46,
     "metadata": {},
     "output_type": "execute_result"
    }
   ],
   "source": [
    "dat_mame.head()"
   ]
  },
  {
   "cell_type": "code",
   "execution_count": 47,
   "metadata": {},
   "outputs": [
    {
     "data": {
      "application/vnd.microsoft.datawrangler.viewer.v0+json": {
       "columns": [
        {
         "name": "index",
         "rawType": "object",
         "type": "string"
        },
        {
         "name": "0",
         "rawType": "int64",
         "type": "integer"
        }
       ],
       "ref": "a1cead7b-42b8-43ad-9a05-be3973a15879",
       "rows": [
        [
         "ID",
         "0"
        ],
        [
         "systemname_mame",
         "0"
        ],
        [
         "gametitle_mame",
         "0"
        ],
        [
         "filename_mame",
         "0"
        ],
        [
         "cloneof_mame",
         "101633"
        ],
        [
         "manufacturer_mame",
         "11907"
        ],
        [
         "year_mame",
         "95935"
        ],
        [
         "genre_mame",
         "193224"
        ]
       ],
       "shape": {
        "columns": 1,
        "rows": 8
       }
      },
      "text/plain": [
       "ID                        0\n",
       "systemname_mame           0\n",
       "gametitle_mame            0\n",
       "filename_mame             0\n",
       "cloneof_mame         101633\n",
       "manufacturer_mame     11907\n",
       "year_mame             95935\n",
       "genre_mame           193224\n",
       "dtype: int64"
      ]
     },
     "execution_count": 47,
     "metadata": {},
     "output_type": "execute_result"
    }
   ],
   "source": [
    "dat_mame.isnull().sum()"
   ]
  },
  {
   "cell_type": "markdown",
   "metadata": {},
   "source": [
    "Analysis: The MAME list is huge (222251 rows), genre missing for 87%, year for 42% of the titles. No descriptions. However the existence of mame filenames could be useful. <br>\n",
    "Columns to keep: gametitle_mame, filename_mame manufacturer_mame and year_mame."
   ]
  },
  {
   "cell_type": "markdown",
   "metadata": {},
   "source": [
    "### ScummVM"
   ]
  },
  {
   "cell_type": "code",
   "execution_count": 48,
   "metadata": {},
   "outputs": [
    {
     "data": {
      "application/vnd.microsoft.datawrangler.viewer.v0+json": {
       "columns": [
        {
         "name": "index",
         "rawType": "int64",
         "type": "integer"
        },
        {
         "name": "ID",
         "rawType": "int64",
         "type": "integer"
        },
        {
         "name": "gametitle_mame",
         "rawType": "object",
         "type": "string"
        },
        {
         "name": "filename_mame",
         "rawType": "object",
         "type": "string"
        },
        {
         "name": "cloneof_mame",
         "rawType": "float64",
         "type": "float"
        },
        {
         "name": "manufacturer_mame",
         "rawType": "object",
         "type": "unknown"
        },
        {
         "name": "year_mame",
         "rawType": "object",
         "type": "string"
        },
        {
         "name": "genre_mame",
         "rawType": "object",
         "type": "unknown"
        }
       ],
       "ref": "bf8e5637-f366-45ae-8ca1-7646f6213578",
       "rows": [
        [
         "0",
         "44251",
         "The 11th Hour The Sequel to The 7th Guest",
         "11h",
         null,
         "Trilobyte",
         "-",
         null
        ],
        [
         "1",
         "44252",
         "Five Lethal Demons",
         "5ld",
         null,
         "Off Studio",
         "-",
         null
        ],
        [
         "2",
         "44253",
         "Five Magical Amulets",
         "5ma",
         null,
         "Off Studio",
         "-",
         null
        ],
        [
         "3",
         "44254",
         "Amazon - Guardians Of Eden",
         "access",
         null,
         null,
         "-",
         null
        ],
        [
         "4",
         "44255",
         "Putt-Putt And Fatty Bear's Activity Pack",
         "activity",
         null,
         "Humongous Entertainment",
         "-",
         null
        ]
       ],
       "shape": {
        "columns": 7,
        "rows": 5
       }
      },
      "text/html": [
       "<div>\n",
       "<style scoped>\n",
       "    .dataframe tbody tr th:only-of-type {\n",
       "        vertical-align: middle;\n",
       "    }\n",
       "\n",
       "    .dataframe tbody tr th {\n",
       "        vertical-align: top;\n",
       "    }\n",
       "\n",
       "    .dataframe thead th {\n",
       "        text-align: right;\n",
       "    }\n",
       "</style>\n",
       "<table border=\"1\" class=\"dataframe\">\n",
       "  <thead>\n",
       "    <tr style=\"text-align: right;\">\n",
       "      <th></th>\n",
       "      <th>ID</th>\n",
       "      <th>gametitle_mame</th>\n",
       "      <th>filename_mame</th>\n",
       "      <th>cloneof_mame</th>\n",
       "      <th>manufacturer_mame</th>\n",
       "      <th>year_mame</th>\n",
       "      <th>genre_mame</th>\n",
       "    </tr>\n",
       "  </thead>\n",
       "  <tbody>\n",
       "    <tr>\n",
       "      <th>0</th>\n",
       "      <td>44251</td>\n",
       "      <td>The 11th Hour The Sequel to The 7th Guest</td>\n",
       "      <td>11h</td>\n",
       "      <td>NaN</td>\n",
       "      <td>Trilobyte</td>\n",
       "      <td>-</td>\n",
       "      <td>NaN</td>\n",
       "    </tr>\n",
       "    <tr>\n",
       "      <th>1</th>\n",
       "      <td>44252</td>\n",
       "      <td>Five Lethal Demons</td>\n",
       "      <td>5ld</td>\n",
       "      <td>NaN</td>\n",
       "      <td>Off Studio</td>\n",
       "      <td>-</td>\n",
       "      <td>NaN</td>\n",
       "    </tr>\n",
       "    <tr>\n",
       "      <th>2</th>\n",
       "      <td>44253</td>\n",
       "      <td>Five Magical Amulets</td>\n",
       "      <td>5ma</td>\n",
       "      <td>NaN</td>\n",
       "      <td>Off Studio</td>\n",
       "      <td>-</td>\n",
       "      <td>NaN</td>\n",
       "    </tr>\n",
       "    <tr>\n",
       "      <th>3</th>\n",
       "      <td>44254</td>\n",
       "      <td>Amazon - Guardians Of Eden</td>\n",
       "      <td>access</td>\n",
       "      <td>NaN</td>\n",
       "      <td>NaN</td>\n",
       "      <td>-</td>\n",
       "      <td>NaN</td>\n",
       "    </tr>\n",
       "    <tr>\n",
       "      <th>4</th>\n",
       "      <td>44255</td>\n",
       "      <td>Putt-Putt And Fatty Bear's Activity Pack</td>\n",
       "      <td>activity</td>\n",
       "      <td>NaN</td>\n",
       "      <td>Humongous Entertainment</td>\n",
       "      <td>-</td>\n",
       "      <td>NaN</td>\n",
       "    </tr>\n",
       "  </tbody>\n",
       "</table>\n",
       "</div>"
      ],
      "text/plain": [
       "      ID                             gametitle_mame filename_mame  \\\n",
       "0  44251  The 11th Hour The Sequel to The 7th Guest           11h   \n",
       "1  44252                         Five Lethal Demons           5ld   \n",
       "2  44253                       Five Magical Amulets           5ma   \n",
       "3  44254                 Amazon - Guardians Of Eden        access   \n",
       "4  44255   Putt-Putt And Fatty Bear's Activity Pack      activity   \n",
       "\n",
       "   cloneof_mame        manufacturer_mame year_mame genre_mame  \n",
       "0           NaN                Trilobyte         -        NaN  \n",
       "1           NaN               Off Studio         -        NaN  \n",
       "2           NaN               Off Studio         -        NaN  \n",
       "3           NaN                      NaN         -        NaN  \n",
       "4           NaN  Humongous Entertainment         -        NaN  "
      ]
     },
     "execution_count": 48,
     "metadata": {},
     "output_type": "execute_result"
    }
   ],
   "source": [
    "dat_scumm_vm.head()"
   ]
  },
  {
   "cell_type": "code",
   "execution_count": 49,
   "metadata": {},
   "outputs": [
    {
     "data": {
      "application/vnd.microsoft.datawrangler.viewer.v0+json": {
       "columns": [
        {
         "name": "index",
         "rawType": "object",
         "type": "string"
        },
        {
         "name": "0",
         "rawType": "int64",
         "type": "integer"
        }
       ],
       "ref": "7bf674fd-8e57-4140-928b-8e9ef81c6292",
       "rows": [
        [
         "ID",
         "0"
        ],
        [
         "gametitle_mame",
         "0"
        ],
        [
         "filename_mame",
         "0"
        ],
        [
         "cloneof_mame",
         "483"
        ],
        [
         "manufacturer_mame",
         "149"
        ],
        [
         "year_mame",
         "0"
        ],
        [
         "genre_mame",
         "318"
        ]
       ],
       "shape": {
        "columns": 1,
        "rows": 7
       }
      },
      "text/plain": [
       "ID                     0\n",
       "gametitle_mame         0\n",
       "filename_mame          0\n",
       "cloneof_mame         483\n",
       "manufacturer_mame    149\n",
       "year_mame              0\n",
       "genre_mame           318\n",
       "dtype: int64"
      ]
     },
     "execution_count": 49,
     "metadata": {},
     "output_type": "execute_result"
    }
   ],
   "source": [
    "dat_scumm_vm.isnull().sum()"
   ]
  },
  {
   "cell_type": "markdown",
   "metadata": {},
   "source": [
    "SCUMM analysis: Bit of a niche dataset but still useful. Manufacturer and genre missing for 35% titles but after inspection the 35% represents more niche games or some non-SCUMM games. Let's come back to this later."
   ]
  },
  {
   "cell_type": "markdown",
   "metadata": {},
   "source": [
    "## GameTDB"
   ]
  },
  {
   "cell_type": "code",
   "execution_count": 50,
   "metadata": {},
   "outputs": [],
   "source": [
    "gamestdb = pd.read_csv('csv/games_on_gametdb.csv')"
   ]
  },
  {
   "cell_type": "code",
   "execution_count": 51,
   "metadata": {},
   "outputs": [
    {
     "data": {
      "application/vnd.microsoft.datawrangler.viewer.v0+json": {
       "columns": [
        {
         "name": "index",
         "rawType": "int64",
         "type": "integer"
        },
        {
         "name": "N°",
         "rawType": "int64",
         "type": "integer"
        },
        {
         "name": "gametdb_id",
         "rawType": "object",
         "type": "string"
        },
        {
         "name": "gametdb_type",
         "rawType": "object",
         "type": "string"
        },
        {
         "name": "gametdb_region",
         "rawType": "object",
         "type": "unknown"
        },
        {
         "name": "gametdb_languages",
         "rawType": "object",
         "type": "string"
        },
        {
         "name": "gametdb_title_de",
         "rawType": "object",
         "type": "string"
        },
        {
         "name": "gametdb_title_en",
         "rawType": "object",
         "type": "string"
        },
        {
         "name": "gametdb_title_es",
         "rawType": "object",
         "type": "unknown"
        },
        {
         "name": "gametdb_title_fr",
         "rawType": "object",
         "type": "string"
        },
        {
         "name": "gametdb_title_it",
         "rawType": "object",
         "type": "string"
        },
        {
         "name": "gametdb_title_ja",
         "rawType": "object",
         "type": "string"
        },
        {
         "name": "gametdb_title_ko",
         "rawType": "object",
         "type": "string"
        },
        {
         "name": "gametdb_title_nl",
         "rawType": "object",
         "type": "string"
        },
        {
         "name": "gametdb_title_pt",
         "rawType": "object",
         "type": "string"
        },
        {
         "name": "gametdb_title_ru",
         "rawType": "object",
         "type": "string"
        },
        {
         "name": "gametdb_synopsis_de",
         "rawType": "object",
         "type": "unknown"
        },
        {
         "name": "gametdb_synopsis_en",
         "rawType": "object",
         "type": "unknown"
        },
        {
         "name": "gametdb_synopsis_es",
         "rawType": "object",
         "type": "unknown"
        },
        {
         "name": "gametdb_synopsis_fr",
         "rawType": "object",
         "type": "unknown"
        },
        {
         "name": "gametdb_synopsis_it",
         "rawType": "object",
         "type": "unknown"
        },
        {
         "name": "gametdb_synopsis_ja",
         "rawType": "object",
         "type": "unknown"
        },
        {
         "name": "gametdb_synopsis_ko",
         "rawType": "object",
         "type": "unknown"
        },
        {
         "name": "gametdb_synopsis_nl",
         "rawType": "object",
         "type": "unknown"
        },
        {
         "name": "gametdb_synopsis_pt",
         "rawType": "object",
         "type": "unknown"
        },
        {
         "name": "gametdb_synopsis_ru",
         "rawType": "object",
         "type": "unknown"
        },
        {
         "name": "gametdb_developer",
         "rawType": "object",
         "type": "unknown"
        },
        {
         "name": "gametdb_publisher",
         "rawType": "object",
         "type": "string"
        },
        {
         "name": "gametdb_date",
         "rawType": "object",
         "type": "string"
        },
        {
         "name": "gametdb_players",
         "rawType": "float64",
         "type": "float"
        },
        {
         "name": "gametdb_genre",
         "rawType": "object",
         "type": "unknown"
        },
        {
         "name": "gametdb_rom",
         "rawType": "object",
         "type": "string"
        },
        {
         "name": "gametdb_rom_sans_ext",
         "rawType": "object",
         "type": "string"
        },
        {
         "name": "gametdb_platform",
         "rawType": "object",
         "type": "string"
        },
        {
         "name": "gametdb_title_cn",
         "rawType": "object",
         "type": "string"
        },
        {
         "name": "gametdb_title_tw",
         "rawType": "object",
         "type": "string"
        },
        {
         "name": "gametdb_synopsis_cn",
         "rawType": "object",
         "type": "unknown"
        },
        {
         "name": "gametdb_synopsis_tw",
         "rawType": "object",
         "type": "unknown"
        },
        {
         "name": "gametdb_rom_cleaned",
         "rawType": "object",
         "type": "string"
        }
       ],
       "ref": "c735b4eb-d052-4f0d-b9ae-346d1a5c72c9",
       "rows": [
        [
         "0",
         "1108862",
         "A22J",
         "3DS",
         "NTSC-J",
         "JP",
         "Bokujou Monogatari Futago no Mura+",
         "Bokujou Monogatari Futago no Mura+",
         null,
         "Bokujou Monogatari Futago no Mura+",
         "Bokujou Monogatari Futago no Mura+",
         "牧場物語 ふたごの村+",
         "Bokujou Monogatari Futago no Mura+",
         "Bokujou Monogatari Futago no Mura+",
         "Bokujou Monogatari Futago no Mura+",
         "Bokujou Monogatari Futago no Mura+",
         null,
         null,
         null,
         null,
         null,
         null,
         null,
         null,
         null,
         null,
         null,
         "Marvelous",
         "20171214T000000",
         "1.0",
         null,
         "Bokujou Monogatari Futago no Mura+ (Japan) (JA).3ds",
         "Bokujou Monogatari Futago no Mura+ (Japan) (JA)",
         "3DS",
         "Bokujou Monogatari Futago no Mura+",
         "Bokujou Monogatari Futago no Mura+",
         null,
         null,
         "Bokujou Monogatari Futago no Mura+"
        ],
        [
         "1",
         "1108863",
         "A2AA",
         "3DS",
         null,
         "EN,FR,DE,ES,IT,JP,KR,TW",
         "Pokémon Ultrasonne: Update",
         "Pokémon Ultra Sun",
         "Pokémon Ultra Sun Actualización Ver. 1.2",
         "Pokémon Ultra-Soleil: Mise à jour",
         "Pokémon Ultrasole: Aggiornamenti",
         "Pokémon Ultra Sun",
         "업데이트 데이터 Ver. 1.2 포켓몬스터 울트라썬",
         "Pokémon Ultra Sun: Update",
         "Pokémon Ultra Sun Atualização Ver. 1.2",
         "Pokémon Ultra Sun",
         "Für Pokémon™ Ultrasonne ist jetzt ein Update im Nintendo eShop verfügbar.\nAllen Kunden, die ein Exemplar von Pokémon™ Ultrasonne besitzen, wird empfohlen, das Update herunterzuladen. Das Update auf Version 1.2 enthält folgende Verbesserungen:\n\n- Diverse Fehlerkorrekturen wurden durchgeführt.\n\n\nSobald das Update herunter- geladen wurde, installiert es sich automatisch.\n\nWir entschuldigen uns für die Unannehmlichkeiten. Für ein einwandfreies Spielerlebnis empfehlen wir, das Update herunterzuladen.",
         "An update for Pokémon™ Ultra Sun is now available from Nintendo eShop.\n\nAll customers who own a copy of Pokémon™ Ultra Sun should download the update. This will update the software to Version 1.1 with the following amendments:\nVarious bug fixes.\n\nOnce the update has been downloaded, it will be installed automatically.\n\nWe apologize for any inconvenience caused, and recommend downloading this update to ensure a smooth game experience.",
         "Hay una actualización disponible para Pokémon™ Ultra Sun en Nintendo eShop.\n\nRecomendamos que todos los clientes que hayan adquirido una copia de Pokémon™ Ultra Sun se descarguen esta actualización. Al actualizar el programa, este pasará a la versión 1.1 en la que se solucionan los siguientes errores:\n\nSe han solucionado algunos errores.\n\nLa actualización se instalará automáticamente una vez descargada.\n\nRecomendamos descargar la actualización y pedimos disculpas por los inconvenientes que esto haya podido causar.",
         "Une mise à jour pour « Pokémon™ Ultra-Soleil » est désormais disponible sur le Nintendo eShop.\nIl est conseillé aux détenteurs d’un exemplaire de « Pokémon™ Ultra-Soleil » de télécharger la mise à jour. Cette dernière permettra d’actualiser le logiciel à la version 1.2 et apportera les corrections suivantes :\n\n- Correction de plusieurs problèmes variés.\n\n\n- Après son téléchargement, la mise à jour sera automatiquement installée.\n\nCette mise à jour est recommandée pour une expérience de jeu optimale. Veuillez nous excuser pour le désagrément.",
         "Sul Nintendo eShop è ora disponibile un aggiornamento per Pokémon™ Ultrasole.\nTutti gli utenti in possesso di una copia di Pokémon™ Ultrasole sono invitati a scaricarlo. Il software sarà aggiornato alla versione 1.2 con i seguenti miglioramenti:\n\n- Sono stati corretti alcuni bug.\n\n\n• L'aggiornamento si installerà automaticamente una volta scaricato.\n\nCi scusiamo per i possibili disagi e raccomandiamo di scaricare l'aggiornamento per apprezzare al meglio il gioco.",
         "An update for Pokémon™ Ultra Sun is now available from Nintendo eShop.\n\nAll customers who own a copy of Pokémon™ Ultra Sun should download the update. This will update the software to Version 1.1 with the following amendments:\nVarious bug fixes.\n\nOnce the update has been downloaded, it will be installed automatically.\n\nWe apologize for any inconvenience caused, and recommend downloading this update to ensure a smooth game experience.",
         "닌텐도 3DS 소프트웨어 「포켓몬스터 울트라썬」의 업데이트 데이터입니다. \n「포켓몬스터 울트라썬」을 갖고 계신 고객님께서는 반드시 다운로드해 주십시오.\n\nVer.1.2 [2018.2.7 배포]\n게임을 쾌적하게 즐길 수 있도록 몇가지 문제를 수정했습니다.\n\n※온라인 플레이를 즐기기 위해서는 업데이트 데이터(Ver.1.2)가 필수입니다.\n※업데이트 데이터(Ver.1.2)를 다운로드한 후에도 Ver.1.1에서 저장한 배틀 비디오를 재생・공개할 수 있습니다.\n※Ver.1.2에는 이전에 업데이트된 내용도 포함되어 있습니다.",
         "Er is een update voor Pokémon™ Ultra Sun beschikbaar in de Nintendo eShop.\nAlle consumenten in het bezit van een exemplaar van Pokémon™ Ultra Sun dienen deze update te downloaden. Deze update werkt de software bij naar versie 1.2 en past het volgende aan:\n\n- Verschillende fouten zijn verholpen.\n\n\n• De update wordt na het downloaden automatisch geïnstalleerd.\n\nWe bieden onze excuses aan voor het ongemak en raden aan om deze update te downloaden voor een betere spelervaring.",
         "Encontra-se agora disponível uma atualização para Pokémon™ Ultra Sun na Nintendo eShop.\n\nAconselhamos todos aqueles que tenham adquirido uma cópia de Pokémon™ Ultra Sun a fazerem o download desta atualização. Esta irá atualizar a aplicação para a versão 1.1 com as seguintes melhorias:\n\nForam corrigidos vários erros.\n\nUma vez descarregada, a atualização será instalada de forma automática.\n\nLamentamos qualquer incómodo causado e recomendamos que descarregue esta atualização de forma a assegurar a melhor experiência de jogo possível.",
         "An update for Pokémon™ Ultra Sun is now available from Nintendo eShop.\n\nAll customers who own a copy of Pokémon™ Ultra Sun should download the update. This will update the software to Version 1.1 with the following amendments:\nVarious bug fixes.\n\nOnce the update has been downloaded, it will be installed automatically.\n\nWe apologize for any inconvenience caused, and recommend downloading this update to ensure a smooth game experience.",
         "Game Freak",
         "Nintendo",
         "20171213T000000",
         "1.0",
         "role-playing,action rpg",
         "Pokémon Ultra Sun (EN,FR,DE,ES,IT,JA,KO,ZHTW).3ds",
         "Pokémon Ultra Sun (EN,FR,DE,ES,IT,JA,KO,ZHTW)",
         "3DS",
         "Pokémon Ultra Sun",
         "更新資料 Ver. 1.2 精靈寶可夢 究極之日",
         "An update for Pokémon™ Ultra Sun is now available from Nintendo eShop.\n\nAll customers who own a copy of Pokémon™ Ultra Sun should download the update. This will update the software to Version 1.1 with the following amendments:\nVarious bug fixes.\n\nOnce the update has been downloaded, it will be installed automatically.\n\nWe apologize for any inconvenience caused, and recommend downloading this update to ensure a smooth game experience.",
         "Nintendo 3DS遊戲軟體『精靈寶可夢 究極之日』的更新資料。\n持有『精靈寶可夢 究極之日』的玩家請務必下載。\n\nVer.1.2 [2018.02.07發佈]\n\n●修正各種問題讓遊戲暢順運行\n\n※需更新資料(Ver.1.2)以進行網路遊戲\n※下載更新資料(Ver.1.2)後，仍可公開或重播Ver.1.1時已儲存的對戰影片。",
         "Pokémon Ultra Sun"
        ],
        [
         "2",
         "1108864",
         "A2AE",
         "3DS",
         "NTSC-U",
         "EN",
         "Pokémon Ultra Sun",
         "Pokémon Ultra Sun",
         null,
         "Pokémon Ultra Sun",
         "Pokémon Ultra Sun",
         "Pokémon Ultra Sun",
         "Pokémon Ultra Sun",
         "Pokémon Ultra Sun",
         "Pokémon Ultra Sun",
         "Pokémon Ultra Sun",
         null,
         null,
         null,
         null,
         null,
         null,
         null,
         null,
         null,
         null,
         "Game Freak",
         "Nintendo/The Pokémon Company",
         "20171117T000000",
         "1.0",
         "adventure,role-playing,action rpg",
         "Pokémon Ultra Sun (USA) (EN).3ds",
         "Pokémon Ultra Sun (USA) (EN)",
         "3DS",
         "Pokémon Ultra Sun",
         "Pokémon Ultra Sun",
         null,
         null,
         "Pokémon Ultra Sun"
        ],
        [
         "3",
         "1108865",
         "A2AJ",
         "3DS",
         "NTSC-J",
         "JP",
         "Pokémon Ultra Sun",
         "Pokémon Ultra Sun",
         null,
         "Pokémon Ultra Sun",
         "Pokémon Ultra Sun",
         "Pokémon Ultra Sun",
         "Pokémon Ultra Sun",
         "Pokémon Ultra Sun",
         "Pokémon Ultra Sun",
         "Pokémon Ultra Sun",
         null,
         null,
         null,
         null,
         null,
         null,
         null,
         null,
         null,
         null,
         "Game Freak",
         "Nintendo/The Pokémon Company",
         "20171117T000000",
         "1.0",
         "adventure,role-playing,action rpg",
         "Pokémon Ultra Sun (Japan) (JA).3ds",
         "Pokémon Ultra Sun (Japan) (JA)",
         "3DS",
         "Pokémon Ultra Sun",
         "Pokémon Ultra Sun",
         null,
         null,
         "Pokémon Ultra Sun"
        ],
        [
         "4",
         "1108866",
         "A2AK",
         "3DS",
         "NTSC-K",
         "KR",
         "Pokémon Ultra Sun",
         "Pokémon Ultra Sun",
         null,
         "Pokémon Ultra Sun",
         "Pokémon Ultra Sun",
         "Pokémon Ultra Sun",
         "포켓몬스터 울트라썬",
         "Pokémon Ultra Sun",
         "Pokémon Ultra Sun",
         "Pokémon Ultra Sun",
         null,
         null,
         null,
         null,
         null,
         null,
         null,
         null,
         null,
         null,
         "Game Freak",
         "Nintendo/The Pokémon Company",
         "20171117T000000",
         "1.0",
         "role-playing,action rpg",
         "Pokémon Ultra Sun (Korea) (KO).3ds",
         "Pokémon Ultra Sun (Korea) (KO)",
         "3DS",
         "Pokémon Ultra Sun",
         "Pokémon Ultra Sun",
         null,
         null,
         "Pokémon Ultra Sun"
        ]
       ],
       "shape": {
        "columns": 38,
        "rows": 5
       }
      },
      "text/html": [
       "<div>\n",
       "<style scoped>\n",
       "    .dataframe tbody tr th:only-of-type {\n",
       "        vertical-align: middle;\n",
       "    }\n",
       "\n",
       "    .dataframe tbody tr th {\n",
       "        vertical-align: top;\n",
       "    }\n",
       "\n",
       "    .dataframe thead th {\n",
       "        text-align: right;\n",
       "    }\n",
       "</style>\n",
       "<table border=\"1\" class=\"dataframe\">\n",
       "  <thead>\n",
       "    <tr style=\"text-align: right;\">\n",
       "      <th></th>\n",
       "      <th>N°</th>\n",
       "      <th>gametdb_id</th>\n",
       "      <th>gametdb_type</th>\n",
       "      <th>gametdb_region</th>\n",
       "      <th>gametdb_languages</th>\n",
       "      <th>gametdb_title_de</th>\n",
       "      <th>gametdb_title_en</th>\n",
       "      <th>gametdb_title_es</th>\n",
       "      <th>gametdb_title_fr</th>\n",
       "      <th>gametdb_title_it</th>\n",
       "      <th>...</th>\n",
       "      <th>gametdb_players</th>\n",
       "      <th>gametdb_genre</th>\n",
       "      <th>gametdb_rom</th>\n",
       "      <th>gametdb_rom_sans_ext</th>\n",
       "      <th>gametdb_platform</th>\n",
       "      <th>gametdb_title_cn</th>\n",
       "      <th>gametdb_title_tw</th>\n",
       "      <th>gametdb_synopsis_cn</th>\n",
       "      <th>gametdb_synopsis_tw</th>\n",
       "      <th>gametdb_rom_cleaned</th>\n",
       "    </tr>\n",
       "  </thead>\n",
       "  <tbody>\n",
       "    <tr>\n",
       "      <th>0</th>\n",
       "      <td>1108862</td>\n",
       "      <td>A22J</td>\n",
       "      <td>3DS</td>\n",
       "      <td>NTSC-J</td>\n",
       "      <td>JP</td>\n",
       "      <td>Bokujou Monogatari Futago no Mura+</td>\n",
       "      <td>Bokujou Monogatari Futago no Mura+</td>\n",
       "      <td>NaN</td>\n",
       "      <td>Bokujou Monogatari Futago no Mura+</td>\n",
       "      <td>Bokujou Monogatari Futago no Mura+</td>\n",
       "      <td>...</td>\n",
       "      <td>1.0</td>\n",
       "      <td>NaN</td>\n",
       "      <td>Bokujou Monogatari Futago no Mura+ (Japan) (JA...</td>\n",
       "      <td>Bokujou Monogatari Futago no Mura+ (Japan) (JA)</td>\n",
       "      <td>3DS</td>\n",
       "      <td>Bokujou Monogatari Futago no Mura+</td>\n",
       "      <td>Bokujou Monogatari Futago no Mura+</td>\n",
       "      <td>NaN</td>\n",
       "      <td>NaN</td>\n",
       "      <td>Bokujou Monogatari Futago no Mura+</td>\n",
       "    </tr>\n",
       "    <tr>\n",
       "      <th>1</th>\n",
       "      <td>1108863</td>\n",
       "      <td>A2AA</td>\n",
       "      <td>3DS</td>\n",
       "      <td>NaN</td>\n",
       "      <td>EN,FR,DE,ES,IT,JP,KR,TW</td>\n",
       "      <td>Pokémon Ultrasonne: Update</td>\n",
       "      <td>Pokémon Ultra Sun</td>\n",
       "      <td>Pokémon Ultra Sun Actualización Ver. 1.2</td>\n",
       "      <td>Pokémon Ultra-Soleil: Mise à jour</td>\n",
       "      <td>Pokémon Ultrasole: Aggiornamenti</td>\n",
       "      <td>...</td>\n",
       "      <td>1.0</td>\n",
       "      <td>role-playing,action rpg</td>\n",
       "      <td>Pokémon Ultra Sun (EN,FR,DE,ES,IT,JA,KO,ZHTW).3ds</td>\n",
       "      <td>Pokémon Ultra Sun (EN,FR,DE,ES,IT,JA,KO,ZHTW)</td>\n",
       "      <td>3DS</td>\n",
       "      <td>Pokémon Ultra Sun</td>\n",
       "      <td>更新資料 Ver. 1.2 精靈寶可夢 究極之日</td>\n",
       "      <td>An update for Pokémon™ Ultra Sun is now availa...</td>\n",
       "      <td>Nintendo 3DS遊戲軟體『精靈寶可夢 究極之日』的更新資料。\\n持有『精靈寶可夢 究...</td>\n",
       "      <td>Pokémon Ultra Sun</td>\n",
       "    </tr>\n",
       "    <tr>\n",
       "      <th>2</th>\n",
       "      <td>1108864</td>\n",
       "      <td>A2AE</td>\n",
       "      <td>3DS</td>\n",
       "      <td>NTSC-U</td>\n",
       "      <td>EN</td>\n",
       "      <td>Pokémon Ultra Sun</td>\n",
       "      <td>Pokémon Ultra Sun</td>\n",
       "      <td>NaN</td>\n",
       "      <td>Pokémon Ultra Sun</td>\n",
       "      <td>Pokémon Ultra Sun</td>\n",
       "      <td>...</td>\n",
       "      <td>1.0</td>\n",
       "      <td>adventure,role-playing,action rpg</td>\n",
       "      <td>Pokémon Ultra Sun (USA) (EN).3ds</td>\n",
       "      <td>Pokémon Ultra Sun (USA) (EN)</td>\n",
       "      <td>3DS</td>\n",
       "      <td>Pokémon Ultra Sun</td>\n",
       "      <td>Pokémon Ultra Sun</td>\n",
       "      <td>NaN</td>\n",
       "      <td>NaN</td>\n",
       "      <td>Pokémon Ultra Sun</td>\n",
       "    </tr>\n",
       "    <tr>\n",
       "      <th>3</th>\n",
       "      <td>1108865</td>\n",
       "      <td>A2AJ</td>\n",
       "      <td>3DS</td>\n",
       "      <td>NTSC-J</td>\n",
       "      <td>JP</td>\n",
       "      <td>Pokémon Ultra Sun</td>\n",
       "      <td>Pokémon Ultra Sun</td>\n",
       "      <td>NaN</td>\n",
       "      <td>Pokémon Ultra Sun</td>\n",
       "      <td>Pokémon Ultra Sun</td>\n",
       "      <td>...</td>\n",
       "      <td>1.0</td>\n",
       "      <td>adventure,role-playing,action rpg</td>\n",
       "      <td>Pokémon Ultra Sun (Japan) (JA).3ds</td>\n",
       "      <td>Pokémon Ultra Sun (Japan) (JA)</td>\n",
       "      <td>3DS</td>\n",
       "      <td>Pokémon Ultra Sun</td>\n",
       "      <td>Pokémon Ultra Sun</td>\n",
       "      <td>NaN</td>\n",
       "      <td>NaN</td>\n",
       "      <td>Pokémon Ultra Sun</td>\n",
       "    </tr>\n",
       "    <tr>\n",
       "      <th>4</th>\n",
       "      <td>1108866</td>\n",
       "      <td>A2AK</td>\n",
       "      <td>3DS</td>\n",
       "      <td>NTSC-K</td>\n",
       "      <td>KR</td>\n",
       "      <td>Pokémon Ultra Sun</td>\n",
       "      <td>Pokémon Ultra Sun</td>\n",
       "      <td>NaN</td>\n",
       "      <td>Pokémon Ultra Sun</td>\n",
       "      <td>Pokémon Ultra Sun</td>\n",
       "      <td>...</td>\n",
       "      <td>1.0</td>\n",
       "      <td>role-playing,action rpg</td>\n",
       "      <td>Pokémon Ultra Sun (Korea) (KO).3ds</td>\n",
       "      <td>Pokémon Ultra Sun (Korea) (KO)</td>\n",
       "      <td>3DS</td>\n",
       "      <td>Pokémon Ultra Sun</td>\n",
       "      <td>Pokémon Ultra Sun</td>\n",
       "      <td>NaN</td>\n",
       "      <td>NaN</td>\n",
       "      <td>Pokémon Ultra Sun</td>\n",
       "    </tr>\n",
       "  </tbody>\n",
       "</table>\n",
       "<p>5 rows × 38 columns</p>\n",
       "</div>"
      ],
      "text/plain": [
       "        N° gametdb_id gametdb_type gametdb_region        gametdb_languages  \\\n",
       "0  1108862       A22J          3DS         NTSC-J                       JP   \n",
       "1  1108863       A2AA          3DS            NaN  EN,FR,DE,ES,IT,JP,KR,TW   \n",
       "2  1108864       A2AE          3DS         NTSC-U                       EN   \n",
       "3  1108865       A2AJ          3DS         NTSC-J                       JP   \n",
       "4  1108866       A2AK          3DS         NTSC-K                       KR   \n",
       "\n",
       "                     gametdb_title_de                    gametdb_title_en  \\\n",
       "0  Bokujou Monogatari Futago no Mura+  Bokujou Monogatari Futago no Mura+   \n",
       "1          Pokémon Ultrasonne: Update                   Pokémon Ultra Sun   \n",
       "2                   Pokémon Ultra Sun                   Pokémon Ultra Sun   \n",
       "3                   Pokémon Ultra Sun                   Pokémon Ultra Sun   \n",
       "4                   Pokémon Ultra Sun                   Pokémon Ultra Sun   \n",
       "\n",
       "                           gametdb_title_es  \\\n",
       "0                                       NaN   \n",
       "1  Pokémon Ultra Sun Actualización Ver. 1.2   \n",
       "2                                       NaN   \n",
       "3                                       NaN   \n",
       "4                                       NaN   \n",
       "\n",
       "                     gametdb_title_fr                    gametdb_title_it  \\\n",
       "0  Bokujou Monogatari Futago no Mura+  Bokujou Monogatari Futago no Mura+   \n",
       "1   Pokémon Ultra-Soleil: Mise à jour    Pokémon Ultrasole: Aggiornamenti   \n",
       "2                   Pokémon Ultra Sun                   Pokémon Ultra Sun   \n",
       "3                   Pokémon Ultra Sun                   Pokémon Ultra Sun   \n",
       "4                   Pokémon Ultra Sun                   Pokémon Ultra Sun   \n",
       "\n",
       "   ... gametdb_players                      gametdb_genre  \\\n",
       "0  ...             1.0                                NaN   \n",
       "1  ...             1.0            role-playing,action rpg   \n",
       "2  ...             1.0  adventure,role-playing,action rpg   \n",
       "3  ...             1.0  adventure,role-playing,action rpg   \n",
       "4  ...             1.0            role-playing,action rpg   \n",
       "\n",
       "                                         gametdb_rom  \\\n",
       "0  Bokujou Monogatari Futago no Mura+ (Japan) (JA...   \n",
       "1  Pokémon Ultra Sun (EN,FR,DE,ES,IT,JA,KO,ZHTW).3ds   \n",
       "2                   Pokémon Ultra Sun (USA) (EN).3ds   \n",
       "3                 Pokémon Ultra Sun (Japan) (JA).3ds   \n",
       "4                 Pokémon Ultra Sun (Korea) (KO).3ds   \n",
       "\n",
       "                              gametdb_rom_sans_ext gametdb_platform  \\\n",
       "0  Bokujou Monogatari Futago no Mura+ (Japan) (JA)              3DS   \n",
       "1    Pokémon Ultra Sun (EN,FR,DE,ES,IT,JA,KO,ZHTW)              3DS   \n",
       "2                     Pokémon Ultra Sun (USA) (EN)              3DS   \n",
       "3                   Pokémon Ultra Sun (Japan) (JA)              3DS   \n",
       "4                   Pokémon Ultra Sun (Korea) (KO)              3DS   \n",
       "\n",
       "                     gametdb_title_cn                    gametdb_title_tw  \\\n",
       "0  Bokujou Monogatari Futago no Mura+  Bokujou Monogatari Futago no Mura+   \n",
       "1                   Pokémon Ultra Sun            更新資料 Ver. 1.2 精靈寶可夢 究極之日   \n",
       "2                   Pokémon Ultra Sun                   Pokémon Ultra Sun   \n",
       "3                   Pokémon Ultra Sun                   Pokémon Ultra Sun   \n",
       "4                   Pokémon Ultra Sun                   Pokémon Ultra Sun   \n",
       "\n",
       "                                 gametdb_synopsis_cn  \\\n",
       "0                                                NaN   \n",
       "1  An update for Pokémon™ Ultra Sun is now availa...   \n",
       "2                                                NaN   \n",
       "3                                                NaN   \n",
       "4                                                NaN   \n",
       "\n",
       "                                 gametdb_synopsis_tw  \\\n",
       "0                                                NaN   \n",
       "1  Nintendo 3DS遊戲軟體『精靈寶可夢 究極之日』的更新資料。\\n持有『精靈寶可夢 究...   \n",
       "2                                                NaN   \n",
       "3                                                NaN   \n",
       "4                                                NaN   \n",
       "\n",
       "                  gametdb_rom_cleaned  \n",
       "0  Bokujou Monogatari Futago no Mura+  \n",
       "1                   Pokémon Ultra Sun  \n",
       "2                   Pokémon Ultra Sun  \n",
       "3                   Pokémon Ultra Sun  \n",
       "4                   Pokémon Ultra Sun  \n",
       "\n",
       "[5 rows x 38 columns]"
      ]
     },
     "execution_count": 51,
     "metadata": {},
     "output_type": "execute_result"
    }
   ],
   "source": [
    "gamestdb.head()"
   ]
  },
  {
   "cell_type": "code",
   "execution_count": 52,
   "metadata": {},
   "outputs": [
    {
     "data": {
      "text/plain": [
       "Index(['N°', 'gametdb_id', 'gametdb_type', 'gametdb_region',\n",
       "       'gametdb_languages', 'gametdb_title_de', 'gametdb_title_en',\n",
       "       'gametdb_title_es', 'gametdb_title_fr', 'gametdb_title_it',\n",
       "       'gametdb_title_ja', 'gametdb_title_ko', 'gametdb_title_nl',\n",
       "       'gametdb_title_pt', 'gametdb_title_ru', 'gametdb_synopsis_de',\n",
       "       'gametdb_synopsis_en', 'gametdb_synopsis_es', 'gametdb_synopsis_fr',\n",
       "       'gametdb_synopsis_it', 'gametdb_synopsis_ja', 'gametdb_synopsis_ko',\n",
       "       'gametdb_synopsis_nl', 'gametdb_synopsis_pt', 'gametdb_synopsis_ru',\n",
       "       'gametdb_developer', 'gametdb_publisher', 'gametdb_date',\n",
       "       'gametdb_players', 'gametdb_genre', 'gametdb_rom',\n",
       "       'gametdb_rom_sans_ext', 'gametdb_platform', 'gametdb_title_cn',\n",
       "       'gametdb_title_tw', 'gametdb_synopsis_cn', 'gametdb_synopsis_tw',\n",
       "       'gametdb_rom_cleaned'],\n",
       "      dtype='object')"
      ]
     },
     "execution_count": 52,
     "metadata": {},
     "output_type": "execute_result"
    }
   ],
   "source": [
    "gamestdb.columns"
   ]
  },
  {
   "cell_type": "code",
   "execution_count": 53,
   "metadata": {},
   "outputs": [
    {
     "data": {
      "application/vnd.microsoft.datawrangler.viewer.v0+json": {
       "columns": [
        {
         "name": "index",
         "rawType": "object",
         "type": "string"
        },
        {
         "name": "0",
         "rawType": "int64",
         "type": "integer"
        }
       ],
       "ref": "72282f3d-0141-4648-8a70-545d9324714d",
       "rows": [
        [
         "N°",
         "0"
        ],
        [
         "gametdb_id",
         "0"
        ],
        [
         "gametdb_type",
         "0"
        ],
        [
         "gametdb_region",
         "6400"
        ],
        [
         "gametdb_languages",
         "2466"
        ],
        [
         "gametdb_title_de",
         "912"
        ],
        [
         "gametdb_title_en",
         "918"
        ],
        [
         "gametdb_title_es",
         "44811"
        ],
        [
         "gametdb_title_fr",
         "848"
        ],
        [
         "gametdb_title_it",
         "913"
        ],
        [
         "gametdb_title_ja",
         "250"
        ],
        [
         "gametdb_title_ko",
         "786"
        ],
        [
         "gametdb_title_nl",
         "917"
        ],
        [
         "gametdb_title_pt",
         "918"
        ],
        [
         "gametdb_title_ru",
         "918"
        ],
        [
         "gametdb_synopsis_de",
         "34824"
        ],
        [
         "gametdb_synopsis_en",
         "34997"
        ],
        [
         "gametdb_synopsis_es",
         "45089"
        ],
        [
         "gametdb_synopsis_fr",
         "34696"
        ],
        [
         "gametdb_synopsis_it",
         "34935"
        ],
        [
         "gametdb_synopsis_ja",
         "33357"
        ],
        [
         "gametdb_synopsis_ko",
         "34795"
        ],
        [
         "gametdb_synopsis_nl",
         "34922"
        ],
        [
         "gametdb_synopsis_pt",
         "34988"
        ],
        [
         "gametdb_synopsis_ru",
         "34994"
        ],
        [
         "gametdb_developer",
         "30586"
        ],
        [
         "gametdb_publisher",
         "16140"
        ],
        [
         "gametdb_date",
         "0"
        ],
        [
         "gametdb_players",
         "8457"
        ],
        [
         "gametdb_genre",
         "21728"
        ],
        [
         "gametdb_rom",
         "918"
        ],
        [
         "gametdb_rom_sans_ext",
         "6"
        ],
        [
         "gametdb_platform",
         "0"
        ],
        [
         "gametdb_title_cn",
         "918"
        ],
        [
         "gametdb_title_tw",
         "872"
        ],
        [
         "gametdb_synopsis_cn",
         "34918"
        ],
        [
         "gametdb_synopsis_tw",
         "34796"
        ],
        [
         "gametdb_rom_cleaned",
         "936"
        ]
       ],
       "shape": {
        "columns": 1,
        "rows": 38
       }
      },
      "text/plain": [
       "N°                          0\n",
       "gametdb_id                  0\n",
       "gametdb_type                0\n",
       "gametdb_region           6400\n",
       "gametdb_languages        2466\n",
       "gametdb_title_de          912\n",
       "gametdb_title_en          918\n",
       "gametdb_title_es        44811\n",
       "gametdb_title_fr          848\n",
       "gametdb_title_it          913\n",
       "gametdb_title_ja          250\n",
       "gametdb_title_ko          786\n",
       "gametdb_title_nl          917\n",
       "gametdb_title_pt          918\n",
       "gametdb_title_ru          918\n",
       "gametdb_synopsis_de     34824\n",
       "gametdb_synopsis_en     34997\n",
       "gametdb_synopsis_es     45089\n",
       "gametdb_synopsis_fr     34696\n",
       "gametdb_synopsis_it     34935\n",
       "gametdb_synopsis_ja     33357\n",
       "gametdb_synopsis_ko     34795\n",
       "gametdb_synopsis_nl     34922\n",
       "gametdb_synopsis_pt     34988\n",
       "gametdb_synopsis_ru     34994\n",
       "gametdb_developer       30586\n",
       "gametdb_publisher       16140\n",
       "gametdb_date                0\n",
       "gametdb_players          8457\n",
       "gametdb_genre           21728\n",
       "gametdb_rom               918\n",
       "gametdb_rom_sans_ext        6\n",
       "gametdb_platform            0\n",
       "gametdb_title_cn          918\n",
       "gametdb_title_tw          872\n",
       "gametdb_synopsis_cn     34918\n",
       "gametdb_synopsis_tw     34796\n",
       "gametdb_rom_cleaned       936\n",
       "dtype: int64"
      ]
     },
     "execution_count": 53,
     "metadata": {},
     "output_type": "execute_result"
    }
   ],
   "source": [
    "gamestdb.isnull().sum()"
   ]
  },
  {
   "cell_type": "code",
   "execution_count": 54,
   "metadata": {},
   "outputs": [
    {
     "data": {
      "text/plain": [
       "array(['3DS', 'DS', 'PS3', 'Switch', 'Wii', 'WiiU'], dtype=object)"
      ]
     },
     "execution_count": 54,
     "metadata": {},
     "output_type": "execute_result"
    }
   ],
   "source": [
    "# show distinct gametdb_type values\n",
    "gamestdb['gametdb_type'].unique()"
   ]
  },
  {
   "cell_type": "markdown",
   "metadata": {},
   "source": [
    "Gametdb analysis: nice dataset but only 6 platforms represented. We're still going to use it."
   ]
  },
  {
   "cell_type": "markdown",
   "metadata": {},
   "source": [
    "## Launchbox"
   ]
  },
  {
   "cell_type": "code",
   "execution_count": 55,
   "metadata": {},
   "outputs": [
    {
     "name": "stderr",
     "output_type": "stream",
     "text": [
      "/tmp/ipykernel_11215/1639964382.py:1: DtypeWarning: Columns (17,18,24,25) have mixed types. Specify dtype option on import or set low_memory=False.\n",
      "  launchbox = pd.read_csv('csv/launchbox.csv')\n"
     ]
    }
   ],
   "source": [
    "launchbox = pd.read_csv('csv/launchbox.csv')"
   ]
  },
  {
   "cell_type": "code",
   "execution_count": 56,
   "metadata": {},
   "outputs": [
    {
     "data": {
      "application/vnd.microsoft.datawrangler.viewer.v0+json": {
       "columns": [
        {
         "name": "index",
         "rawType": "int64",
         "type": "integer"
        },
        {
         "name": "N°",
         "rawType": "int64",
         "type": "integer"
        },
        {
         "name": "DatabaseID",
         "rawType": "int64",
         "type": "integer"
        },
        {
         "name": "Name",
         "rawType": "object",
         "type": "string"
        },
        {
         "name": "ReleaseYear",
         "rawType": "float64",
         "type": "float"
        },
        {
         "name": "Overview",
         "rawType": "object",
         "type": "unknown"
        },
        {
         "name": "MaxPlayers",
         "rawType": "float64",
         "type": "float"
        },
        {
         "name": "ReleaseType",
         "rawType": "object",
         "type": "unknown"
        },
        {
         "name": "Cooperative",
         "rawType": "int64",
         "type": "integer"
        },
        {
         "name": "VideoURL",
         "rawType": "object",
         "type": "unknown"
        },
        {
         "name": "CommunityRating",
         "rawType": "float64",
         "type": "float"
        },
        {
         "name": "Platform",
         "rawType": "object",
         "type": "string"
        },
        {
         "name": "ESRB",
         "rawType": "object",
         "type": "unknown"
        },
        {
         "name": "CommunityRatingCount",
         "rawType": "int64",
         "type": "integer"
        },
        {
         "name": "Genres",
         "rawType": "object",
         "type": "unknown"
        },
        {
         "name": "Developer",
         "rawType": "object",
         "type": "unknown"
        },
        {
         "name": "Publisher",
         "rawType": "object",
         "type": "unknown"
        },
        {
         "name": "WikipediaURL",
         "rawType": "object",
         "type": "unknown"
        },
        {
         "name": "AlternateName_Australia",
         "rawType": "object",
         "type": "unknown"
        },
        {
         "name": "AlternateName_Brazil",
         "rawType": "object",
         "type": "unknown"
        },
        {
         "name": "AlternateName_China",
         "rawType": "object",
         "type": "unknown"
        },
        {
         "name": "AlternateName_Europe",
         "rawType": "object",
         "type": "unknown"
        },
        {
         "name": "AlternateName_France",
         "rawType": "object",
         "type": "unknown"
        },
        {
         "name": "AlternateName_Germany",
         "rawType": "object",
         "type": "unknown"
        },
        {
         "name": "AlternateName_Japan",
         "rawType": "object",
         "type": "unknown"
        },
        {
         "name": "AlternateName_Korea",
         "rawType": "object",
         "type": "unknown"
        },
        {
         "name": "AlternateName_NorthAmerica",
         "rawType": "object",
         "type": "unknown"
        },
        {
         "name": "AlternateName_Spain",
         "rawType": "object",
         "type": "unknown"
        },
        {
         "name": "AlternateName_UnitedStates",
         "rawType": "float64",
         "type": "float"
        },
        {
         "name": "AlternateName_World",
         "rawType": "object",
         "type": "unknown"
        }
       ],
       "ref": "caac7f11-593d-4bd3-903f-e12bf7f23ef0",
       "rows": [
        [
         "0",
         "6658890",
         "17687",
         "20th Century Video Almanac",
         "1993.0",
         "In The Best of Our Century, we've taken multimedia to dizzying new heights and you control the ride! Relive the most earthshaking events of the 20th century. Touch down on the moon with the Apollo astronauts. Relive Woodstock. Attend President Kennedy's inauguration. Take a front row seat for the incredible 1916 World Series. This multimedia reference work uses one of the world's largest archives of historical video to produce a visual encyclopedia of the century, with audio, photos, and text. The 20th Century Video Almanac provides a broad look at the events that shaped our world.",
         "1.0",
         "Released",
         "0",
         "https://www.youtube.com/watch?v=dfFT6jqjFq0",
         "3.301418439716312",
         "3DO Interactive Multiplayer",
         "Not Rated",
         "141",
         "Education",
         "The Software Toolworks",
         "The Software Toolworks",
         null,
         null,
         null,
         null,
         null,
         null,
         null,
         null,
         null,
         null,
         null,
         null,
         null
        ],
        [
         "1",
         "6658891",
         "219683",
         "3D Atlas",
         "1994.0",
         "The World Isn't Flat. Why Should Your Atlas Be?\n\nMultidimensional Imagery and Navigation\n- 3D spinning globes\n- Nine zoom levels of detail\n- Thousands of satellite images\n- 3D flights\n\nIntegrated Geographical Approach\n- Environmental globe\n- Physical globe\n- Political globe\n\nInteractive Multimedia Exhibits\n- Satellite photos of major cities\n- Dozens of video documentaries\n- Time lapse photography\n- Thousands of statistics\n\nExamine our world in 3 different visual contexts - environemental, physical and political.",
         "1.0",
         "Released",
         "0",
         "https://www.youtube.com/watch?v=RZ-pph55Ui4",
         "3.5",
         "3DO Interactive Multiplayer",
         "E - Everyone",
         "25",
         "Education",
         "Electronic Arts",
         "Electronic Arts",
         null,
         null,
         null,
         null,
         null,
         null,
         null,
         null,
         null,
         null,
         null,
         null,
         null
        ],
        [
         "2",
         "6658892",
         "25182",
         "3DO Action Pak",
         "1995.0",
         "This is a four-game compilation pack that contains the following 3DO games:\n\n    Slayer\n    Shanghai: Triple-Threat\n    Soccer Kid\n    Dragon's Lair",
         "1.0",
         "Released",
         "0",
         null,
         "3.647435897435898",
         "3DO Interactive Multiplayer",
         "Not Rated",
         "78",
         "Compilation",
         "3DO",
         "3DO",
         null,
         null,
         null,
         null,
         null,
         null,
         null,
         null,
         null,
         null,
         null,
         null,
         null
        ],
        [
         "3",
         "6658893",
         "417702",
         "3DO de Shiru Miru Asobu Nakajima Miyuki",
         null,
         null,
         "1.0",
         "Unreleased",
         "0",
         null,
         "3.75",
         "3DO Interactive Multiplayer",
         null,
         "16",
         null,
         null,
         "Pony Canyon",
         null,
         null,
         null,
         null,
         null,
         null,
         null,
         "3DOで知る・みる・あそぶ 中島みゆき",
         null,
         null,
         null,
         null,
         "3DO de Shiru Miru Asobu - Nakajima Miyuki"
        ],
        [
         "4",
         "6658894",
         "130908",
         "3DO Demo Disc Program",
         null,
         "A white binder with blue silk-screened art. The binder itself contains a number of demo discs, each on its own separate \"sell sheet\" with instructions, general gameplay rundowns, and a plastic pocket to hold the game. CD's in this series are most often marked as demos but are fully playable, full versions of the game.",
         null,
         null,
         "0",
         null,
         "3.330357142857143",
         "3DO Interactive Multiplayer",
         null,
         "56",
         null,
         null,
         null,
         null,
         null,
         null,
         null,
         null,
         null,
         null,
         null,
         null,
         null,
         null,
         null,
         null
        ]
       ],
       "shape": {
        "columns": 29,
        "rows": 5
       }
      },
      "text/html": [
       "<div>\n",
       "<style scoped>\n",
       "    .dataframe tbody tr th:only-of-type {\n",
       "        vertical-align: middle;\n",
       "    }\n",
       "\n",
       "    .dataframe tbody tr th {\n",
       "        vertical-align: top;\n",
       "    }\n",
       "\n",
       "    .dataframe thead th {\n",
       "        text-align: right;\n",
       "    }\n",
       "</style>\n",
       "<table border=\"1\" class=\"dataframe\">\n",
       "  <thead>\n",
       "    <tr style=\"text-align: right;\">\n",
       "      <th></th>\n",
       "      <th>N°</th>\n",
       "      <th>DatabaseID</th>\n",
       "      <th>Name</th>\n",
       "      <th>ReleaseYear</th>\n",
       "      <th>Overview</th>\n",
       "      <th>MaxPlayers</th>\n",
       "      <th>ReleaseType</th>\n",
       "      <th>Cooperative</th>\n",
       "      <th>VideoURL</th>\n",
       "      <th>CommunityRating</th>\n",
       "      <th>...</th>\n",
       "      <th>AlternateName_China</th>\n",
       "      <th>AlternateName_Europe</th>\n",
       "      <th>AlternateName_France</th>\n",
       "      <th>AlternateName_Germany</th>\n",
       "      <th>AlternateName_Japan</th>\n",
       "      <th>AlternateName_Korea</th>\n",
       "      <th>AlternateName_NorthAmerica</th>\n",
       "      <th>AlternateName_Spain</th>\n",
       "      <th>AlternateName_UnitedStates</th>\n",
       "      <th>AlternateName_World</th>\n",
       "    </tr>\n",
       "  </thead>\n",
       "  <tbody>\n",
       "    <tr>\n",
       "      <th>0</th>\n",
       "      <td>6658890</td>\n",
       "      <td>17687</td>\n",
       "      <td>20th Century Video Almanac</td>\n",
       "      <td>1993.0</td>\n",
       "      <td>In The Best of Our Century, we've taken multim...</td>\n",
       "      <td>1.0</td>\n",
       "      <td>Released</td>\n",
       "      <td>0</td>\n",
       "      <td>https://www.youtube.com/watch?v=dfFT6jqjFq0</td>\n",
       "      <td>3.301418</td>\n",
       "      <td>...</td>\n",
       "      <td>NaN</td>\n",
       "      <td>NaN</td>\n",
       "      <td>NaN</td>\n",
       "      <td>NaN</td>\n",
       "      <td>NaN</td>\n",
       "      <td>NaN</td>\n",
       "      <td>NaN</td>\n",
       "      <td>NaN</td>\n",
       "      <td>NaN</td>\n",
       "      <td>NaN</td>\n",
       "    </tr>\n",
       "    <tr>\n",
       "      <th>1</th>\n",
       "      <td>6658891</td>\n",
       "      <td>219683</td>\n",
       "      <td>3D Atlas</td>\n",
       "      <td>1994.0</td>\n",
       "      <td>The World Isn't Flat. Why Should Your Atlas Be...</td>\n",
       "      <td>1.0</td>\n",
       "      <td>Released</td>\n",
       "      <td>0</td>\n",
       "      <td>https://www.youtube.com/watch?v=RZ-pph55Ui4</td>\n",
       "      <td>3.500000</td>\n",
       "      <td>...</td>\n",
       "      <td>NaN</td>\n",
       "      <td>NaN</td>\n",
       "      <td>NaN</td>\n",
       "      <td>NaN</td>\n",
       "      <td>NaN</td>\n",
       "      <td>NaN</td>\n",
       "      <td>NaN</td>\n",
       "      <td>NaN</td>\n",
       "      <td>NaN</td>\n",
       "      <td>NaN</td>\n",
       "    </tr>\n",
       "    <tr>\n",
       "      <th>2</th>\n",
       "      <td>6658892</td>\n",
       "      <td>25182</td>\n",
       "      <td>3DO Action Pak</td>\n",
       "      <td>1995.0</td>\n",
       "      <td>This is a four-game compilation pack that cont...</td>\n",
       "      <td>1.0</td>\n",
       "      <td>Released</td>\n",
       "      <td>0</td>\n",
       "      <td>NaN</td>\n",
       "      <td>3.647436</td>\n",
       "      <td>...</td>\n",
       "      <td>NaN</td>\n",
       "      <td>NaN</td>\n",
       "      <td>NaN</td>\n",
       "      <td>NaN</td>\n",
       "      <td>NaN</td>\n",
       "      <td>NaN</td>\n",
       "      <td>NaN</td>\n",
       "      <td>NaN</td>\n",
       "      <td>NaN</td>\n",
       "      <td>NaN</td>\n",
       "    </tr>\n",
       "    <tr>\n",
       "      <th>3</th>\n",
       "      <td>6658893</td>\n",
       "      <td>417702</td>\n",
       "      <td>3DO de Shiru Miru Asobu Nakajima Miyuki</td>\n",
       "      <td>NaN</td>\n",
       "      <td>NaN</td>\n",
       "      <td>1.0</td>\n",
       "      <td>Unreleased</td>\n",
       "      <td>0</td>\n",
       "      <td>NaN</td>\n",
       "      <td>3.750000</td>\n",
       "      <td>...</td>\n",
       "      <td>NaN</td>\n",
       "      <td>NaN</td>\n",
       "      <td>NaN</td>\n",
       "      <td>NaN</td>\n",
       "      <td>3DOで知る・みる・あそぶ 中島みゆき</td>\n",
       "      <td>NaN</td>\n",
       "      <td>NaN</td>\n",
       "      <td>NaN</td>\n",
       "      <td>NaN</td>\n",
       "      <td>3DO de Shiru Miru Asobu - Nakajima Miyuki</td>\n",
       "    </tr>\n",
       "    <tr>\n",
       "      <th>4</th>\n",
       "      <td>6658894</td>\n",
       "      <td>130908</td>\n",
       "      <td>3DO Demo Disc Program</td>\n",
       "      <td>NaN</td>\n",
       "      <td>A white binder with blue silk-screened art. Th...</td>\n",
       "      <td>NaN</td>\n",
       "      <td>NaN</td>\n",
       "      <td>0</td>\n",
       "      <td>NaN</td>\n",
       "      <td>3.330357</td>\n",
       "      <td>...</td>\n",
       "      <td>NaN</td>\n",
       "      <td>NaN</td>\n",
       "      <td>NaN</td>\n",
       "      <td>NaN</td>\n",
       "      <td>NaN</td>\n",
       "      <td>NaN</td>\n",
       "      <td>NaN</td>\n",
       "      <td>NaN</td>\n",
       "      <td>NaN</td>\n",
       "      <td>NaN</td>\n",
       "    </tr>\n",
       "  </tbody>\n",
       "</table>\n",
       "<p>5 rows × 29 columns</p>\n",
       "</div>"
      ],
      "text/plain": [
       "        N°  DatabaseID                                     Name  ReleaseYear  \\\n",
       "0  6658890       17687               20th Century Video Almanac       1993.0   \n",
       "1  6658891      219683                                 3D Atlas       1994.0   \n",
       "2  6658892       25182                           3DO Action Pak       1995.0   \n",
       "3  6658893      417702  3DO de Shiru Miru Asobu Nakajima Miyuki          NaN   \n",
       "4  6658894      130908                    3DO Demo Disc Program          NaN   \n",
       "\n",
       "                                            Overview  MaxPlayers ReleaseType  \\\n",
       "0  In The Best of Our Century, we've taken multim...         1.0    Released   \n",
       "1  The World Isn't Flat. Why Should Your Atlas Be...         1.0    Released   \n",
       "2  This is a four-game compilation pack that cont...         1.0    Released   \n",
       "3                                                NaN         1.0  Unreleased   \n",
       "4  A white binder with blue silk-screened art. Th...         NaN         NaN   \n",
       "\n",
       "   Cooperative                                     VideoURL  CommunityRating  \\\n",
       "0            0  https://www.youtube.com/watch?v=dfFT6jqjFq0         3.301418   \n",
       "1            0  https://www.youtube.com/watch?v=RZ-pph55Ui4         3.500000   \n",
       "2            0                                          NaN         3.647436   \n",
       "3            0                                          NaN         3.750000   \n",
       "4            0                                          NaN         3.330357   \n",
       "\n",
       "   ... AlternateName_China AlternateName_Europe  AlternateName_France  \\\n",
       "0  ...                 NaN                  NaN                   NaN   \n",
       "1  ...                 NaN                  NaN                   NaN   \n",
       "2  ...                 NaN                  NaN                   NaN   \n",
       "3  ...                 NaN                  NaN                   NaN   \n",
       "4  ...                 NaN                  NaN                   NaN   \n",
       "\n",
       "  AlternateName_Germany  AlternateName_Japan AlternateName_Korea  \\\n",
       "0                   NaN                  NaN                 NaN   \n",
       "1                   NaN                  NaN                 NaN   \n",
       "2                   NaN                  NaN                 NaN   \n",
       "3                   NaN  3DOで知る・みる・あそぶ 中島みゆき                 NaN   \n",
       "4                   NaN                  NaN                 NaN   \n",
       "\n",
       "  AlternateName_NorthAmerica AlternateName_Spain AlternateName_UnitedStates  \\\n",
       "0                        NaN                 NaN                        NaN   \n",
       "1                        NaN                 NaN                        NaN   \n",
       "2                        NaN                 NaN                        NaN   \n",
       "3                        NaN                 NaN                        NaN   \n",
       "4                        NaN                 NaN                        NaN   \n",
       "\n",
       "                         AlternateName_World  \n",
       "0                                        NaN  \n",
       "1                                        NaN  \n",
       "2                                        NaN  \n",
       "3  3DO de Shiru Miru Asobu - Nakajima Miyuki  \n",
       "4                                        NaN  \n",
       "\n",
       "[5 rows x 29 columns]"
      ]
     },
     "execution_count": 56,
     "metadata": {},
     "output_type": "execute_result"
    }
   ],
   "source": [
    "launchbox.head()"
   ]
  },
  {
   "cell_type": "markdown",
   "metadata": {},
   "source": [
    "Launchbox analysis: huge list, some missing values. Prime candidate for the main dataset that other datasets will be added to."
   ]
  },
  {
   "cell_type": "markdown",
   "metadata": {},
   "source": [
    "## Mobygames"
   ]
  },
  {
   "cell_type": "code",
   "execution_count": 57,
   "metadata": {},
   "outputs": [],
   "source": [
    "mobygames = pd.read_csv('csv/mobygames.csv')"
   ]
  },
  {
   "cell_type": "code",
   "execution_count": 58,
   "metadata": {},
   "outputs": [
    {
     "name": "stdout",
     "output_type": "stream",
     "text": [
      "<class 'pandas.core.frame.DataFrame'>\n",
      "RangeIndex: 316257 entries, 0 to 316256\n",
      "Data columns (total 7 columns):\n",
      " #   Column         Non-Null Count   Dtype  \n",
      "---  ------         --------------   -----  \n",
      " 0   numauto        316257 non-null  int64  \n",
      " 1   platform_id    316257 non-null  int64  \n",
      " 2   platform_name  316257 non-null  object \n",
      " 3   game_id        316257 non-null  int64  \n",
      " 4   game_title     316257 non-null  object \n",
      " 5   release_date   0 non-null       float64\n",
      " 6   mobygames_url  316257 non-null  object \n",
      "dtypes: float64(1), int64(3), object(3)\n",
      "memory usage: 16.9+ MB\n"
     ]
    }
   ],
   "source": [
    "mobygames.info()"
   ]
  },
  {
   "cell_type": "code",
   "execution_count": 59,
   "metadata": {},
   "outputs": [
    {
     "data": {
      "application/vnd.microsoft.datawrangler.viewer.v0+json": {
       "columns": [
        {
         "name": "index",
         "rawType": "object",
         "type": "string"
        },
        {
         "name": "0",
         "rawType": "int64",
         "type": "integer"
        }
       ],
       "ref": "20651cf0-cb58-4b24-9d93-21fa4c3b2528",
       "rows": [
        [
         "numauto",
         "0"
        ],
        [
         "platform_id",
         "0"
        ],
        [
         "platform_name",
         "0"
        ],
        [
         "game_id",
         "0"
        ],
        [
         "game_title",
         "0"
        ],
        [
         "release_date",
         "316257"
        ],
        [
         "mobygames_url",
         "0"
        ]
       ],
       "shape": {
        "columns": 1,
        "rows": 7
       }
      },
      "text/plain": [
       "numauto               0\n",
       "platform_id           0\n",
       "platform_name         0\n",
       "game_id               0\n",
       "game_title            0\n",
       "release_date     316257\n",
       "mobygames_url         0\n",
       "dtype: int64"
      ]
     },
     "execution_count": 59,
     "metadata": {},
     "output_type": "execute_result"
    }
   ],
   "source": [
    "mobygames.isnull().sum()"
   ]
  },
  {
   "cell_type": "code",
   "execution_count": 60,
   "metadata": {},
   "outputs": [
    {
     "data": {
      "application/vnd.microsoft.datawrangler.viewer.v0+json": {
       "columns": [
        {
         "name": "index",
         "rawType": "int64",
         "type": "integer"
        },
        {
         "name": "numauto",
         "rawType": "int64",
         "type": "integer"
        },
        {
         "name": "platform_id",
         "rawType": "int64",
         "type": "integer"
        },
        {
         "name": "platform_name",
         "rawType": "object",
         "type": "string"
        },
        {
         "name": "game_id",
         "rawType": "int64",
         "type": "integer"
        },
        {
         "name": "game_title",
         "rawType": "object",
         "type": "string"
        },
        {
         "name": "release_date",
         "rawType": "float64",
         "type": "float"
        },
        {
         "name": "mobygames_url",
         "rawType": "object",
         "type": "string"
        }
       ],
       "ref": "621a9779-5e4e-4397-9566-af9914fc0e50",
       "rows": [
        [
         "0",
         "2781406",
         "35",
         "3do",
         "96",
         "Quarantine",
         null,
         "t1H5j95PeMaZo+Cw1R9vKw==hY9Nu9IGxGC1KpiwIcK0pXWNzA46MBKWAyN+1jHvcdHv2vZcvu6maMhlUp567lwn"
        ],
        [
         "1",
         "2781407",
         "35",
         "3do",
         "111",
         "Virtuoso",
         null,
         "pskb3XM01ASHZRWZmUS00g==9/zl7gK72ixL8RSmDQYsDqAZdGgiwasvZaMdZFiGfceCGq+SUepywm4wzu6T0j9q"
        ],
        [
         "2",
         "2781408",
         "35",
         "3do",
         "165",
         "Princess Maker 2",
         null,
         "IaammuI4ElexSjqcTb6zAg==LU77bhsLWm+TMdKjgrt5Wv5t075ekMvCNM+DP1lrwZ7WKa8iXLdYYagUN4LueBopJ7vIYOxALLMhshxcyuP91w=="
        ],
        [
         "3",
         "2781409",
         "35",
         "3do",
         "179",
         "Star Control II",
         null,
         "5NOpZrNp7xOTX79DuN4weg==uPkHQmlKhUSynxAzrMmt4b5fO02+51/CCIuA1ciZUkbHeE/2qGVV0pK0Zxt3Qo4wDL+H109nxGOo4exSyK5wcA=="
        ],
        [
         "4",
         "2781410",
         "35",
         "3do",
         "210",
         "Cannon Fodder",
         null,
         "ICShm7ilii6jmpRScaapPw==QXCpV2CiXimgLBnmVrOM6cyshz65L92CHCTYlQ2kcI61Pu56pu9e5teA4XokFHOChBAH4aNdBhbVpaLnctUEiQ=="
        ]
       ],
       "shape": {
        "columns": 7,
        "rows": 5
       }
      },
      "text/html": [
       "<div>\n",
       "<style scoped>\n",
       "    .dataframe tbody tr th:only-of-type {\n",
       "        vertical-align: middle;\n",
       "    }\n",
       "\n",
       "    .dataframe tbody tr th {\n",
       "        vertical-align: top;\n",
       "    }\n",
       "\n",
       "    .dataframe thead th {\n",
       "        text-align: right;\n",
       "    }\n",
       "</style>\n",
       "<table border=\"1\" class=\"dataframe\">\n",
       "  <thead>\n",
       "    <tr style=\"text-align: right;\">\n",
       "      <th></th>\n",
       "      <th>numauto</th>\n",
       "      <th>platform_id</th>\n",
       "      <th>platform_name</th>\n",
       "      <th>game_id</th>\n",
       "      <th>game_title</th>\n",
       "      <th>release_date</th>\n",
       "      <th>mobygames_url</th>\n",
       "    </tr>\n",
       "  </thead>\n",
       "  <tbody>\n",
       "    <tr>\n",
       "      <th>0</th>\n",
       "      <td>2781406</td>\n",
       "      <td>35</td>\n",
       "      <td>3do</td>\n",
       "      <td>96</td>\n",
       "      <td>Quarantine</td>\n",
       "      <td>NaN</td>\n",
       "      <td>t1H5j95PeMaZo+Cw1R9vKw==hY9Nu9IGxGC1KpiwIcK0pX...</td>\n",
       "    </tr>\n",
       "    <tr>\n",
       "      <th>1</th>\n",
       "      <td>2781407</td>\n",
       "      <td>35</td>\n",
       "      <td>3do</td>\n",
       "      <td>111</td>\n",
       "      <td>Virtuoso</td>\n",
       "      <td>NaN</td>\n",
       "      <td>pskb3XM01ASHZRWZmUS00g==9/zl7gK72ixL8RSmDQYsDq...</td>\n",
       "    </tr>\n",
       "    <tr>\n",
       "      <th>2</th>\n",
       "      <td>2781408</td>\n",
       "      <td>35</td>\n",
       "      <td>3do</td>\n",
       "      <td>165</td>\n",
       "      <td>Princess Maker 2</td>\n",
       "      <td>NaN</td>\n",
       "      <td>IaammuI4ElexSjqcTb6zAg==LU77bhsLWm+TMdKjgrt5Wv...</td>\n",
       "    </tr>\n",
       "    <tr>\n",
       "      <th>3</th>\n",
       "      <td>2781409</td>\n",
       "      <td>35</td>\n",
       "      <td>3do</td>\n",
       "      <td>179</td>\n",
       "      <td>Star Control II</td>\n",
       "      <td>NaN</td>\n",
       "      <td>5NOpZrNp7xOTX79DuN4weg==uPkHQmlKhUSynxAzrMmt4b...</td>\n",
       "    </tr>\n",
       "    <tr>\n",
       "      <th>4</th>\n",
       "      <td>2781410</td>\n",
       "      <td>35</td>\n",
       "      <td>3do</td>\n",
       "      <td>210</td>\n",
       "      <td>Cannon Fodder</td>\n",
       "      <td>NaN</td>\n",
       "      <td>ICShm7ilii6jmpRScaapPw==QXCpV2CiXimgLBnmVrOM6c...</td>\n",
       "    </tr>\n",
       "  </tbody>\n",
       "</table>\n",
       "</div>"
      ],
      "text/plain": [
       "   numauto  platform_id platform_name  game_id        game_title  \\\n",
       "0  2781406           35           3do       96        Quarantine   \n",
       "1  2781407           35           3do      111          Virtuoso   \n",
       "2  2781408           35           3do      165  Princess Maker 2   \n",
       "3  2781409           35           3do      179   Star Control II   \n",
       "4  2781410           35           3do      210     Cannon Fodder   \n",
       "\n",
       "   release_date                                      mobygames_url  \n",
       "0           NaN  t1H5j95PeMaZo+Cw1R9vKw==hY9Nu9IGxGC1KpiwIcK0pX...  \n",
       "1           NaN  pskb3XM01ASHZRWZmUS00g==9/zl7gK72ixL8RSmDQYsDq...  \n",
       "2           NaN  IaammuI4ElexSjqcTb6zAg==LU77bhsLWm+TMdKjgrt5Wv...  \n",
       "3           NaN  5NOpZrNp7xOTX79DuN4weg==uPkHQmlKhUSynxAzrMmt4b...  \n",
       "4           NaN  ICShm7ilii6jmpRScaapPw==QXCpV2CiXimgLBnmVrOM6c...  "
      ]
     },
     "execution_count": 60,
     "metadata": {},
     "output_type": "execute_result"
    }
   ],
   "source": [
    "mobygames.head()"
   ]
  },
  {
   "cell_type": "markdown",
   "metadata": {},
   "source": [
    "Mobygames analysis: Only platform names and game titles here and release dates are empty. Huge list 316257 entries. A good candidate to attach other info to."
   ]
  },
  {
   "cell_type": "markdown",
   "metadata": {},
   "source": [
    "## Recalbox"
   ]
  },
  {
   "cell_type": "code",
   "execution_count": 61,
   "metadata": {},
   "outputs": [],
   "source": [
    "recalbox = pd.read_csv('csv/recalbox_gamelist.csv')"
   ]
  },
  {
   "cell_type": "code",
   "execution_count": 62,
   "metadata": {},
   "outputs": [
    {
     "data": {
      "application/vnd.microsoft.datawrangler.viewer.v0+json": {
       "columns": [
        {
         "name": "index",
         "rawType": "int64",
         "type": "integer"
        },
        {
         "name": "numauto_rom",
         "rawType": "int64",
         "type": "integer"
        },
        {
         "name": "nomjeu_rom",
         "rawType": "object",
         "type": "string"
        },
        {
         "name": "fichier_rom",
         "rawType": "object",
         "type": "string"
        },
        {
         "name": "description_rom",
         "rawType": "object",
         "type": "string"
        },
        {
         "name": "image_rom",
         "rawType": "object",
         "type": "string"
        },
        {
         "name": "rating_rom",
         "rawType": "float64",
         "type": "float"
        },
        {
         "name": "annee_rom",
         "rawType": "object",
         "type": "string"
        },
        {
         "name": "developer_rom",
         "rawType": "object",
         "type": "string"
        },
        {
         "name": "publisher_rom",
         "rawType": "object",
         "type": "string"
        },
        {
         "name": "genre_rom",
         "rawType": "object",
         "type": "string"
        },
        {
         "name": "players_rom",
         "rawType": "object",
         "type": "string"
        },
        {
         "name": "cache_rom",
         "rawType": "int64",
         "type": "integer"
        },
        {
         "name": "favoris_rom",
         "rawType": "int64",
         "type": "integer"
        },
        {
         "name": "boxart_rom",
         "rawType": "object",
         "type": "string"
        },
        {
         "name": "screenshot_rom",
         "rawType": "object",
         "type": "string"
        },
        {
         "name": "wheel_rom",
         "rawType": "object",
         "type": "string"
        },
        {
         "name": "video_rom",
         "rawType": "float64",
         "type": "float"
        },
        {
         "name": "mix_rom",
         "rawType": "object",
         "type": "string"
        },
        {
         "name": "playcount_rom",
         "rawType": "int64",
         "type": "integer"
        },
        {
         "name": "lastplayed_rom",
         "rawType": "object",
         "type": "unknown"
        },
        {
         "name": "md5_rom",
         "rawType": "object",
         "type": "string"
        },
        {
         "name": "core_rom",
         "rawType": "float64",
         "type": "float"
        },
        {
         "name": "emulator_rom",
         "rawType": "float64",
         "type": "float"
        },
        {
         "name": "cartridge_rom",
         "rawType": "object",
         "type": "string"
        },
        {
         "name": "hash_rom",
         "rawType": "object",
         "type": "unknown"
        },
        {
         "name": "manual_rom",
         "rawType": "float64",
         "type": "float"
        },
        {
         "name": "region_rom",
         "rawType": "object",
         "type": "string"
        },
        {
         "name": "thumbnail_rom",
         "rawType": "float64",
         "type": "float"
        },
        {
         "name": "marquee_rom",
         "rawType": "object",
         "type": "string"
        },
        {
         "name": "genreid_rom",
         "rawType": "int64",
         "type": "integer"
        },
        {
         "name": "fanart_rom",
         "rawType": "float64",
         "type": "float"
        },
        {
         "name": "map_rom",
         "rawType": "float64",
         "type": "float"
        },
        {
         "name": "titleshot_rom",
         "rawType": "float64",
         "type": "float"
        },
        {
         "name": "lang_rom",
         "rawType": "object",
         "type": "unknown"
        },
        {
         "name": "gameid_rom",
         "rawType": "float64",
         "type": "float"
        },
        {
         "name": "kid_rom",
         "rawType": "int64",
         "type": "integer"
        },
        {
         "name": "adult_rom",
         "rawType": "int64",
         "type": "integer"
        },
        {
         "name": "arcadesystemname_rom",
         "rawType": "float64",
         "type": "float"
        },
        {
         "name": "gametime_rom",
         "rawType": "int64",
         "type": "integer"
        },
        {
         "name": "boxback_rom",
         "rawType": "float64",
         "type": "float"
        },
        {
         "name": "temporary_rom",
         "rawType": "float64",
         "type": "float"
        },
        {
         "name": "bezel_rom",
         "rawType": "float64",
         "type": "float"
        },
        {
         "name": "ratio_rom",
         "rawType": "float64",
         "type": "float"
        },
        {
         "name": "rotation_rom",
         "rawType": "float64",
         "type": "float"
        },
        {
         "name": "extra1_rom",
         "rawType": "float64",
         "type": "float"
        },
        {
         "name": "famille_rom",
         "rawType": "float64",
         "type": "float"
        },
        {
         "name": "mode_rom",
         "rawType": "object",
         "type": "unknown"
        }
       ],
       "ref": "6ed6a791-8df6-47ae-9a6a-892c070cdd1e",
       "rows": [
        [
         "0",
         "33308",
         "4-in-1 Fun Pak Volume II",
         "./4-in-1 Fun Pak Volume II (USA, Europe).zip",
         "Now you can have four of the most popular board games of all time on your GAME BOY... all together in one fun-filled package! Sargon Chess... Checkers... Backgammon... Reversi... any time, any place. Interplay's 4-in-1 Fun Pak is the perfect opponent, at home or on the road. All four games can be played solo, face-to-face, or via GAME BOY's GAME LINK. So, whenever you're looking for tough competition, just turn on your GAME BOY and take your best shot.",
         "./images/4-in-1 Fun Pak Volume II (USA, Europe).png",
         "0.4",
         "19920901T000000",
         "Beam Software",
         "Interplay",
         "Variados-Jogo de tabuleiro",
         "1-2",
         "0",
         "0",
         "./covers/4-in-1 Fun Pak Volume II (USA, Europe).png",
         "./screenshots/4-in-1 Fun Pak Volume II (USA, Europe).png",
         "./wheel/4-in-1 Fun Pak Volume II (USA, Europe).png",
         null,
         "./miximages/4-in-1 Fun Pak Volume II (USA, Europe).png",
         "1",
         "20200421T093930",
         "a13e38045f1db7c42894dd587c22383e",
         null,
         null,
         "./cartridge/4-in-1 Fun Pak Volume II (USA, Europe).png",
         null,
         null,
         "us,eu",
         null,
         "./marquees/4-in-1 Fun Pak Volume II (USA, Europe)-marquee.png",
         "0",
         null,
         null,
         null,
         null,
         "59620.0",
         "0",
         "0",
         null,
         "36",
         null,
         null,
         null,
         null,
         null,
         null,
         null,
         null
        ],
        [
         "1",
         "33310",
         "The Addams Family",
         "./Addams Family, The (USA).zip",
         "The Addams Family is a side-scrolling platformer based on the movie of the same name. The player takes the role of Gomez who searches for his missing family members. To find them he has to explore six different parts of the mansion, e.g. the forest or the graveyard, which are basic platform levels: the player moves from left to right while jumping a lot and avoiding enemies. In contrast to the other versions of the game he has weapons to his disposal, e.g. a throwing knife. Other differences are a unique level design and another health system: Gomez has five hearts which practically act like a life meter because every hit only takes away a part of a heart.",
         "./images/Addams Family, The (USA).png",
         "0.4",
         "19920102T000000",
         "Ocean",
         "Ocean",
         "Ação",
         "1",
         "0",
         "0",
         "./covers/Addams Family, The (USA).png",
         "./screenshots/Addams Family, The (USA).png",
         "./wheel/Addams Family, The (USA).png",
         null,
         "./miximages/Addams Family, The (USA).png",
         "0",
         null,
         "67a56886c9aa343bd4940050ecb07ccf",
         null,
         null,
         "./cartridge/Addams Family, The (USA).png",
         "C170A732",
         null,
         "us",
         null,
         "./marquees/Addams Family, The (USA)-marquee.png",
         "0",
         null,
         null,
         null,
         null,
         "3187.0",
         "0",
         "0",
         null,
         "0",
         null,
         null,
         null,
         null,
         null,
         null,
         null,
         null
        ],
        [
         "2",
         "33312",
         "Adventure Island II: Aliens in Paradise",
         "./Adventure Island II - Aliens in Paradise (USA, Europe).zip",
         "Jeannie Jungle has been captured by aliens! She's stranded somewhere on one of eight islands and you, as the somewhat heroic Master Higgins, must find her. But be careful - each island is guarded by an enormous creature that's very hungry! Explore 8 levels Collect items such as: Axes, Skateboards, and boomerangs Enlist the help of the local dinosaurs Save your girlfriend from the menacing aliens Fortunately, you have a little help. There are five kinds of friendly dinosaurs waiting to give you a lift. They're stuck in eggs that you'll need to crack open! Hidden eggs are scattered all over the islands. By finding and breaking them open, you might get a bonus, or even a secret way to the next island! Just don't eat the eggplant... So hop on one of your dinosaur pals, and ride your way to Jeannie's rescue!",
         "./images/Adventure Island II - Aliens in Paradise (USA, Europe).png",
         "0.4",
         "19930202T000000",
         "Hudson",
         "Hudson",
         "Ação",
         "1",
         "0",
         "0",
         "./covers/Adventure Island II - Aliens in Paradise (USA, Europe).png",
         "./screenshots/Adventure Island II - Aliens in Paradise (USA, Europe).png",
         "./wheel/Adventure Island II - Aliens in Paradise (USA, Europe).png",
         null,
         "./miximages/Adventure Island II - Aliens in Paradise (USA, Europe).png",
         "0",
         null,
         "b907a056073c59da553091468bf42ef2",
         null,
         null,
         "./cartridge/Adventure Island II - Aliens in Paradise (USA, Europe).png",
         "783066CF",
         null,
         "us,eu",
         null,
         "./marquees/Adventure Island II - Aliens in Paradise (USA, Europe)-marquee.png",
         "0",
         null,
         null,
         null,
         null,
         "3254.0",
         "0",
         "0",
         null,
         "0",
         null,
         null,
         null,
         null,
         null,
         null,
         null,
         null
        ],
        [
         "3",
         "33314",
         "The Adventures of Star Saver",
         "./Adventures of Star Saver, The (USA, Europe).zip",
         "On a routine check through the city, police officer Tony and his sister find themselves sucked up by a UFO and transported to a distant land. Separated from his sister, Tony is left stranded in the middle of nowhere, but luckily for him the aliens left something for him, having stolen a mech from elsewhere in the galaxy. Powerful and deadly, the mech seems to have a mind of its own, and agrees to join Tony on the quest to find his sister. The side-scrolling shooter pits you against a host of different alien creatures across the galaxy. You'll start inside the mech itself, collecting weapon upgrades along the way to increase your chances of defeating the alien scum. But be careful, if you're hit by them, you'll lose the safety of the mech and be all by yourself.",
         "./images/Adventures of Star Saver, The (USA, Europe).png",
         "0.4",
         "19920101T000000",
         "A-Wave",
         "Taito",
         "Ação-Plataforma",
         "1",
         "0",
         "0",
         "./covers/Adventures of Star Saver, The (USA, Europe).png",
         "./screenshots/Adventures of Star Saver, The (USA, Europe).png",
         "./wheel/Adventures of Star Saver, The (USA, Europe).png",
         null,
         "./miximages/Adventures of Star Saver, The (USA, Europe).png",
         "0",
         null,
         "d9286b499cb66c8bbf5220f27c16b82d",
         null,
         null,
         "./cartridge/Adventures of Star Saver, The (USA, Europe).png",
         "5D461374",
         null,
         "us,eu",
         null,
         "./marquees/Adventures of Star Saver, The (USA, Europe)-marquee.png",
         "0",
         null,
         null,
         null,
         null,
         "59624.0",
         "0",
         "0",
         null,
         "0",
         null,
         null,
         null,
         null,
         null,
         null,
         null,
         null
        ],
        [
         "4",
         "33315",
         "Aerostar",
         "./Aerostar (USA, Europe).zip",
         "Aerostar is a top-down, vertically-scrolling shooter. The player controls an aircraft, but instead of going all across the screen, it can only stay on or fly over a preset road. However, it can ascend at the cost of disabling your weapons before descending back onto either another road or the one it was on before. Like most top-down shooters, there are power-up pods which provide an array of missiles, lasers, and guardian pods. In the end of each level there are extremely tough bosses. No storyline is provided.",
         "./images/Aerostar (USA, Europe).png",
         "1.0",
         "19910901T000000",
         "Sigma Pro-Tech",
         "Vic Tokai, Inc.",
         "Shoot'em Up-Ação",
         "1",
         "0",
         "0",
         "./covers/Aerostar (USA, Europe).png",
         "./screenshots/Aerostar (USA, Europe).png",
         "./wheel/Aerostar (USA, Europe).png",
         null,
         "./miximages/Aerostar (USA, Europe).png",
         "0",
         null,
         "4461706947a79fd4815b6b87d42f165e",
         null,
         null,
         "./cartridge/Aerostar (USA, Europe).png",
         "F6FD275E",
         null,
         "us,eu",
         null,
         "./marquees/Aerostar (USA, Europe)-marquee.png",
         "0",
         null,
         null,
         null,
         null,
         "59625.0",
         "0",
         "0",
         null,
         "0",
         null,
         null,
         null,
         null,
         null,
         null,
         null,
         null
        ]
       ],
       "shape": {
        "columns": 47,
        "rows": 5
       }
      },
      "text/html": [
       "<div>\n",
       "<style scoped>\n",
       "    .dataframe tbody tr th:only-of-type {\n",
       "        vertical-align: middle;\n",
       "    }\n",
       "\n",
       "    .dataframe tbody tr th {\n",
       "        vertical-align: top;\n",
       "    }\n",
       "\n",
       "    .dataframe thead th {\n",
       "        text-align: right;\n",
       "    }\n",
       "</style>\n",
       "<table border=\"1\" class=\"dataframe\">\n",
       "  <thead>\n",
       "    <tr style=\"text-align: right;\">\n",
       "      <th></th>\n",
       "      <th>numauto_rom</th>\n",
       "      <th>nomjeu_rom</th>\n",
       "      <th>fichier_rom</th>\n",
       "      <th>description_rom</th>\n",
       "      <th>image_rom</th>\n",
       "      <th>rating_rom</th>\n",
       "      <th>annee_rom</th>\n",
       "      <th>developer_rom</th>\n",
       "      <th>publisher_rom</th>\n",
       "      <th>genre_rom</th>\n",
       "      <th>...</th>\n",
       "      <th>arcadesystemname_rom</th>\n",
       "      <th>gametime_rom</th>\n",
       "      <th>boxback_rom</th>\n",
       "      <th>temporary_rom</th>\n",
       "      <th>bezel_rom</th>\n",
       "      <th>ratio_rom</th>\n",
       "      <th>rotation_rom</th>\n",
       "      <th>extra1_rom</th>\n",
       "      <th>famille_rom</th>\n",
       "      <th>mode_rom</th>\n",
       "    </tr>\n",
       "  </thead>\n",
       "  <tbody>\n",
       "    <tr>\n",
       "      <th>0</th>\n",
       "      <td>33308</td>\n",
       "      <td>4-in-1 Fun Pak Volume II</td>\n",
       "      <td>./4-in-1 Fun Pak Volume II (USA, Europe).zip</td>\n",
       "      <td>Now you can have four of the most popular boar...</td>\n",
       "      <td>./images/4-in-1 Fun Pak Volume II (USA, Europe...</td>\n",
       "      <td>0.4</td>\n",
       "      <td>19920901T000000</td>\n",
       "      <td>Beam Software</td>\n",
       "      <td>Interplay</td>\n",
       "      <td>Variados-Jogo de tabuleiro</td>\n",
       "      <td>...</td>\n",
       "      <td>NaN</td>\n",
       "      <td>36</td>\n",
       "      <td>NaN</td>\n",
       "      <td>NaN</td>\n",
       "      <td>NaN</td>\n",
       "      <td>NaN</td>\n",
       "      <td>NaN</td>\n",
       "      <td>NaN</td>\n",
       "      <td>NaN</td>\n",
       "      <td>NaN</td>\n",
       "    </tr>\n",
       "    <tr>\n",
       "      <th>1</th>\n",
       "      <td>33310</td>\n",
       "      <td>The Addams Family</td>\n",
       "      <td>./Addams Family, The (USA).zip</td>\n",
       "      <td>The Addams Family is a side-scrolling platform...</td>\n",
       "      <td>./images/Addams Family, The (USA).png</td>\n",
       "      <td>0.4</td>\n",
       "      <td>19920102T000000</td>\n",
       "      <td>Ocean</td>\n",
       "      <td>Ocean</td>\n",
       "      <td>Ação</td>\n",
       "      <td>...</td>\n",
       "      <td>NaN</td>\n",
       "      <td>0</td>\n",
       "      <td>NaN</td>\n",
       "      <td>NaN</td>\n",
       "      <td>NaN</td>\n",
       "      <td>NaN</td>\n",
       "      <td>NaN</td>\n",
       "      <td>NaN</td>\n",
       "      <td>NaN</td>\n",
       "      <td>NaN</td>\n",
       "    </tr>\n",
       "    <tr>\n",
       "      <th>2</th>\n",
       "      <td>33312</td>\n",
       "      <td>Adventure Island II: Aliens in Paradise</td>\n",
       "      <td>./Adventure Island II - Aliens in Paradise (US...</td>\n",
       "      <td>Jeannie Jungle has been captured by aliens! Sh...</td>\n",
       "      <td>./images/Adventure Island II - Aliens in Parad...</td>\n",
       "      <td>0.4</td>\n",
       "      <td>19930202T000000</td>\n",
       "      <td>Hudson</td>\n",
       "      <td>Hudson</td>\n",
       "      <td>Ação</td>\n",
       "      <td>...</td>\n",
       "      <td>NaN</td>\n",
       "      <td>0</td>\n",
       "      <td>NaN</td>\n",
       "      <td>NaN</td>\n",
       "      <td>NaN</td>\n",
       "      <td>NaN</td>\n",
       "      <td>NaN</td>\n",
       "      <td>NaN</td>\n",
       "      <td>NaN</td>\n",
       "      <td>NaN</td>\n",
       "    </tr>\n",
       "    <tr>\n",
       "      <th>3</th>\n",
       "      <td>33314</td>\n",
       "      <td>The Adventures of Star Saver</td>\n",
       "      <td>./Adventures of Star Saver, The (USA, Europe).zip</td>\n",
       "      <td>On a routine check through the city, police of...</td>\n",
       "      <td>./images/Adventures of Star Saver, The (USA, E...</td>\n",
       "      <td>0.4</td>\n",
       "      <td>19920101T000000</td>\n",
       "      <td>A-Wave</td>\n",
       "      <td>Taito</td>\n",
       "      <td>Ação-Plataforma</td>\n",
       "      <td>...</td>\n",
       "      <td>NaN</td>\n",
       "      <td>0</td>\n",
       "      <td>NaN</td>\n",
       "      <td>NaN</td>\n",
       "      <td>NaN</td>\n",
       "      <td>NaN</td>\n",
       "      <td>NaN</td>\n",
       "      <td>NaN</td>\n",
       "      <td>NaN</td>\n",
       "      <td>NaN</td>\n",
       "    </tr>\n",
       "    <tr>\n",
       "      <th>4</th>\n",
       "      <td>33315</td>\n",
       "      <td>Aerostar</td>\n",
       "      <td>./Aerostar (USA, Europe).zip</td>\n",
       "      <td>Aerostar is a top-down, vertically-scrolling s...</td>\n",
       "      <td>./images/Aerostar (USA, Europe).png</td>\n",
       "      <td>1.0</td>\n",
       "      <td>19910901T000000</td>\n",
       "      <td>Sigma Pro-Tech</td>\n",
       "      <td>Vic Tokai, Inc.</td>\n",
       "      <td>Shoot'em Up-Ação</td>\n",
       "      <td>...</td>\n",
       "      <td>NaN</td>\n",
       "      <td>0</td>\n",
       "      <td>NaN</td>\n",
       "      <td>NaN</td>\n",
       "      <td>NaN</td>\n",
       "      <td>NaN</td>\n",
       "      <td>NaN</td>\n",
       "      <td>NaN</td>\n",
       "      <td>NaN</td>\n",
       "      <td>NaN</td>\n",
       "    </tr>\n",
       "  </tbody>\n",
       "</table>\n",
       "<p>5 rows × 47 columns</p>\n",
       "</div>"
      ],
      "text/plain": [
       "   numauto_rom                               nomjeu_rom  \\\n",
       "0        33308                 4-in-1 Fun Pak Volume II   \n",
       "1        33310                        The Addams Family   \n",
       "2        33312  Adventure Island II: Aliens in Paradise   \n",
       "3        33314             The Adventures of Star Saver   \n",
       "4        33315                                 Aerostar   \n",
       "\n",
       "                                         fichier_rom  \\\n",
       "0       ./4-in-1 Fun Pak Volume II (USA, Europe).zip   \n",
       "1                     ./Addams Family, The (USA).zip   \n",
       "2  ./Adventure Island II - Aliens in Paradise (US...   \n",
       "3  ./Adventures of Star Saver, The (USA, Europe).zip   \n",
       "4                       ./Aerostar (USA, Europe).zip   \n",
       "\n",
       "                                     description_rom  \\\n",
       "0  Now you can have four of the most popular boar...   \n",
       "1  The Addams Family is a side-scrolling platform...   \n",
       "2  Jeannie Jungle has been captured by aliens! Sh...   \n",
       "3  On a routine check through the city, police of...   \n",
       "4  Aerostar is a top-down, vertically-scrolling s...   \n",
       "\n",
       "                                           image_rom  rating_rom  \\\n",
       "0  ./images/4-in-1 Fun Pak Volume II (USA, Europe...         0.4   \n",
       "1              ./images/Addams Family, The (USA).png         0.4   \n",
       "2  ./images/Adventure Island II - Aliens in Parad...         0.4   \n",
       "3  ./images/Adventures of Star Saver, The (USA, E...         0.4   \n",
       "4                ./images/Aerostar (USA, Europe).png         1.0   \n",
       "\n",
       "         annee_rom   developer_rom    publisher_rom  \\\n",
       "0  19920901T000000   Beam Software        Interplay   \n",
       "1  19920102T000000           Ocean            Ocean   \n",
       "2  19930202T000000          Hudson           Hudson   \n",
       "3  19920101T000000          A-Wave            Taito   \n",
       "4  19910901T000000  Sigma Pro-Tech  Vic Tokai, Inc.   \n",
       "\n",
       "                    genre_rom  ... arcadesystemname_rom  gametime_rom  \\\n",
       "0  Variados-Jogo de tabuleiro  ...                  NaN            36   \n",
       "1                        Ação  ...                  NaN             0   \n",
       "2                        Ação  ...                  NaN             0   \n",
       "3             Ação-Plataforma  ...                  NaN             0   \n",
       "4            Shoot'em Up-Ação  ...                  NaN             0   \n",
       "\n",
       "   boxback_rom temporary_rom bezel_rom ratio_rom  rotation_rom extra1_rom  \\\n",
       "0          NaN           NaN       NaN       NaN           NaN        NaN   \n",
       "1          NaN           NaN       NaN       NaN           NaN        NaN   \n",
       "2          NaN           NaN       NaN       NaN           NaN        NaN   \n",
       "3          NaN           NaN       NaN       NaN           NaN        NaN   \n",
       "4          NaN           NaN       NaN       NaN           NaN        NaN   \n",
       "\n",
       "   famille_rom mode_rom  \n",
       "0          NaN      NaN  \n",
       "1          NaN      NaN  \n",
       "2          NaN      NaN  \n",
       "3          NaN      NaN  \n",
       "4          NaN      NaN  \n",
       "\n",
       "[5 rows x 47 columns]"
      ]
     },
     "execution_count": 62,
     "metadata": {},
     "output_type": "execute_result"
    }
   ],
   "source": [
    "recalbox.head()"
   ]
  },
  {
   "cell_type": "markdown",
   "metadata": {},
   "source": [
    "Recalbox: Looks like its (mostly) NES/Famicom titles. It has descriptions. Looks like the xml version has less missing values. Let's try joining these two before merging them to main."
   ]
  },
  {
   "cell_type": "markdown",
   "metadata": {},
   "source": [
    "## all_games.csv\n",
    "(don't know where its from)"
   ]
  },
  {
   "cell_type": "code",
   "execution_count": 63,
   "metadata": {},
   "outputs": [],
   "source": [
    "all_games = pd.read_csv('csv/all_games.csv')"
   ]
  },
  {
   "cell_type": "code",
   "execution_count": 64,
   "metadata": {},
   "outputs": [
    {
     "data": {
      "application/vnd.microsoft.datawrangler.viewer.v0+json": {
       "columns": [
        {
         "name": "index",
         "rawType": "int64",
         "type": "integer"
        },
        {
         "name": "name",
         "rawType": "object",
         "type": "string"
        },
        {
         "name": "platform",
         "rawType": "object",
         "type": "string"
        },
        {
         "name": "release_date",
         "rawType": "object",
         "type": "string"
        },
        {
         "name": "summary",
         "rawType": "object",
         "type": "string"
        },
        {
         "name": "meta_score",
         "rawType": "int64",
         "type": "integer"
        },
        {
         "name": "user_review",
         "rawType": "object",
         "type": "string"
        }
       ],
       "ref": "f4aacd54-aa15-46f0-b425-e70062612130",
       "rows": [
        [
         "0",
         "The Legend of Zelda: Ocarina of Time",
         " Nintendo 64",
         "November 23, 1998",
         "As a young boy, Link is tricked by Ganondorf, the King of the Gerudo Thieves. The evil human uses Link to gain access to the Sacred Realm, where he places his tainted hands on Triforce and transforms the beautiful Hyrulean landscape into a barren wasteland. Link is determined to fix the problems he helped to create, so with the help of Rauru he travels through time gathering the powers of the Seven Sages.",
         "99",
         "9.1"
        ],
        [
         "1",
         "Tony Hawk's Pro Skater 2",
         " PlayStation",
         "September 20, 2000",
         "As most major publishers' development efforts shift to any number of next-generation platforms, Tony Hawk 2 will likely stand as one of the last truly fantastic games to be released on the PlayStation.",
         "98",
         "7.4"
        ],
        [
         "2",
         "Grand Theft Auto IV",
         " PlayStation 3",
         "April 29, 2008",
         "[Metacritic's 2008 PS3 Game of the Year; Also known as \"GTA IV\"] What does the American Dream mean today? For Niko Belic, fresh off the boat from Europe. It's the hope he can escape his past. For his cousin, Roman, it is the vision that together they can find fortune in Liberty City, gateway to the land of opportunity. As they slip into debt and are dragged into a criminal underworld by a series of shysters, thieves and sociopaths, they discover that the reality is very different from the dream in a city that worships money and status, and is heaven for those who have them an a living nightmare for those who don't. [Rockstar Games]",
         "98",
         "7.7"
        ],
        [
         "3",
         "SoulCalibur",
         " Dreamcast",
         "September 8, 1999",
         "This is a tale of souls and swords, transcending the world and all its history, told for all eternity... The greatest weapons-based fighter returns, this time on Sega Dreamcast. Soul Calibur unleashes incredible graphics, fantastic fighters, and combos so amazing they'll make your head spin!",
         "98",
         "8.4"
        ],
        [
         "4",
         "Grand Theft Auto IV",
         " Xbox 360",
         "April 29, 2008",
         "[Metacritic's 2008 Xbox 360 Game of the Year; Also known as \"GTA IV\"] What does the American Dream mean today? For Niko Belic, fresh off the boat from Europe. It's the hope he can escape his past. For his cousin, Roman, it is the vision that together they can find fortune in Liberty City, gateway to the land of opportunity. As they slip into debt and are dragged into a criminal underworld by a series of shysters, thieves and sociopaths, they discover that the reality is very different from the dream in a city that worships money and status, and is heaven for those who have them an a living nightmare for those who don't. [Rockstar Games]",
         "98",
         "7.9"
        ]
       ],
       "shape": {
        "columns": 6,
        "rows": 5
       }
      },
      "text/html": [
       "<div>\n",
       "<style scoped>\n",
       "    .dataframe tbody tr th:only-of-type {\n",
       "        vertical-align: middle;\n",
       "    }\n",
       "\n",
       "    .dataframe tbody tr th {\n",
       "        vertical-align: top;\n",
       "    }\n",
       "\n",
       "    .dataframe thead th {\n",
       "        text-align: right;\n",
       "    }\n",
       "</style>\n",
       "<table border=\"1\" class=\"dataframe\">\n",
       "  <thead>\n",
       "    <tr style=\"text-align: right;\">\n",
       "      <th></th>\n",
       "      <th>name</th>\n",
       "      <th>platform</th>\n",
       "      <th>release_date</th>\n",
       "      <th>summary</th>\n",
       "      <th>meta_score</th>\n",
       "      <th>user_review</th>\n",
       "    </tr>\n",
       "  </thead>\n",
       "  <tbody>\n",
       "    <tr>\n",
       "      <th>0</th>\n",
       "      <td>The Legend of Zelda: Ocarina of Time</td>\n",
       "      <td>Nintendo 64</td>\n",
       "      <td>November 23, 1998</td>\n",
       "      <td>As a young boy, Link is tricked by Ganondorf, ...</td>\n",
       "      <td>99</td>\n",
       "      <td>9.1</td>\n",
       "    </tr>\n",
       "    <tr>\n",
       "      <th>1</th>\n",
       "      <td>Tony Hawk's Pro Skater 2</td>\n",
       "      <td>PlayStation</td>\n",
       "      <td>September 20, 2000</td>\n",
       "      <td>As most major publishers' development efforts ...</td>\n",
       "      <td>98</td>\n",
       "      <td>7.4</td>\n",
       "    </tr>\n",
       "    <tr>\n",
       "      <th>2</th>\n",
       "      <td>Grand Theft Auto IV</td>\n",
       "      <td>PlayStation 3</td>\n",
       "      <td>April 29, 2008</td>\n",
       "      <td>[Metacritic's 2008 PS3 Game of the Year; Also ...</td>\n",
       "      <td>98</td>\n",
       "      <td>7.7</td>\n",
       "    </tr>\n",
       "    <tr>\n",
       "      <th>3</th>\n",
       "      <td>SoulCalibur</td>\n",
       "      <td>Dreamcast</td>\n",
       "      <td>September 8, 1999</td>\n",
       "      <td>This is a tale of souls and swords, transcendi...</td>\n",
       "      <td>98</td>\n",
       "      <td>8.4</td>\n",
       "    </tr>\n",
       "    <tr>\n",
       "      <th>4</th>\n",
       "      <td>Grand Theft Auto IV</td>\n",
       "      <td>Xbox 360</td>\n",
       "      <td>April 29, 2008</td>\n",
       "      <td>[Metacritic's 2008 Xbox 360 Game of the Year; ...</td>\n",
       "      <td>98</td>\n",
       "      <td>7.9</td>\n",
       "    </tr>\n",
       "  </tbody>\n",
       "</table>\n",
       "</div>"
      ],
      "text/plain": [
       "                                   name        platform        release_date  \\\n",
       "0  The Legend of Zelda: Ocarina of Time     Nintendo 64   November 23, 1998   \n",
       "1              Tony Hawk's Pro Skater 2     PlayStation  September 20, 2000   \n",
       "2                   Grand Theft Auto IV   PlayStation 3      April 29, 2008   \n",
       "3                           SoulCalibur       Dreamcast   September 8, 1999   \n",
       "4                   Grand Theft Auto IV        Xbox 360      April 29, 2008   \n",
       "\n",
       "                                             summary  meta_score user_review  \n",
       "0  As a young boy, Link is tricked by Ganondorf, ...          99         9.1  \n",
       "1  As most major publishers' development efforts ...          98         7.4  \n",
       "2  [Metacritic's 2008 PS3 Game of the Year; Also ...          98         7.7  \n",
       "3  This is a tale of souls and swords, transcendi...          98         8.4  \n",
       "4  [Metacritic's 2008 Xbox 360 Game of the Year; ...          98         7.9  "
      ]
     },
     "execution_count": 64,
     "metadata": {},
     "output_type": "execute_result"
    }
   ],
   "source": [
    "all_games.head()"
   ]
  },
  {
   "cell_type": "code",
   "execution_count": 65,
   "metadata": {},
   "outputs": [
    {
     "data": {
      "application/vnd.microsoft.datawrangler.viewer.v0+json": {
       "columns": [
        {
         "name": "index",
         "rawType": "object",
         "type": "string"
        },
        {
         "name": "0",
         "rawType": "int64",
         "type": "integer"
        }
       ],
       "ref": "66b6e5e9-d5dd-45a1-8e43-30ee79d9193f",
       "rows": [
        [
         "name",
         "0"
        ],
        [
         "platform",
         "0"
        ],
        [
         "release_date",
         "0"
        ],
        [
         "summary",
         "114"
        ],
        [
         "meta_score",
         "0"
        ],
        [
         "user_review",
         "0"
        ]
       ],
       "shape": {
        "columns": 1,
        "rows": 6
       }
      },
      "text/plain": [
       "name              0\n",
       "platform          0\n",
       "release_date      0\n",
       "summary         114\n",
       "meta_score        0\n",
       "user_review       0\n",
       "dtype: int64"
      ]
     },
     "execution_count": 65,
     "metadata": {},
     "output_type": "execute_result"
    }
   ],
   "source": [
    "all_games.isnull().sum()"
   ]
  },
  {
   "cell_type": "markdown",
   "metadata": {},
   "source": [
    "all_games: really nice list. I think it is metacritic top games. barely any missing values. definitely useful."
   ]
  }
 ],
 "metadata": {
  "kernelspec": {
   "display_name": "base",
   "language": "python",
   "name": "python3"
  },
  "language_info": {
   "codemirror_mode": {
    "name": "ipython",
    "version": 3
   },
   "file_extension": ".py",
   "mimetype": "text/x-python",
   "name": "python",
   "nbconvert_exporter": "python",
   "pygments_lexer": "ipython3",
   "version": "3.13.5"
  }
 },
 "nbformat": 4,
 "nbformat_minor": 2
}
